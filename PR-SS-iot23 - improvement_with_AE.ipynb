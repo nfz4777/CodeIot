{
 "cells": [
  {
   "cell_type": "markdown",
   "id": "fd7e4ac0",
   "metadata": {},
   "source": [
    "We experimented with various methods, including DNNs, RNNs, LSTMs, and different architectures. The comment\n",
    "\n",
    "\"Selected\" in the code cells indicates that both the selected architectures and predictions are the ones\n",
    "\n",
    "highlighted in the paper."
   ]
  },
  {
   "cell_type": "code",
   "execution_count": 16,
   "id": "a44a54c1",
   "metadata": {},
   "outputs": [],
   "source": [
    "import pandas as pd\n",
    "import numpy as np\n",
    "import tensorflow as tf\n",
    "from matplotlib import pyplot\n",
    "from tensorflow.keras import Model\n",
    "from tensorflow.keras import Sequential\n",
    "from tensorflow.keras.models import Sequential, Model\n",
    "from tensorflow.keras.layers import Conv2D, Input, Dropout, Activation, Dense, MaxPooling2D, Flatten, GlobalAveragePooling2D\n",
    "from tensorflow.keras.optimizers import Adadelta\n",
    "from tensorflow.keras.callbacks import ModelCheckpoint\n",
    "from tensorflow.keras.layers import Dense,Bidirectional\n",
    "from tensorflow.keras.layers import LSTM\n",
    "import sklearn\n",
    "from sklearn.metrics import classification_report\n",
    "from sklearn.preprocessing import MinMaxScaler\n",
    "import pandas as pd\n",
    "import matplotlib.pyplot as plt\n",
    "import seaborn as sns\n",
    "import itertools\n",
    "import random\n",
    "import numpy as np\n",
    "import keras\n",
    "from sklearn.manifold import TSNE\n",
    "# processing imports\n",
    "from sklearn import preprocessing\n",
    "from sklearn.preprocessing import LabelEncoder\n",
    "from sklearn.model_selection import train_test_split,StratifiedKFold,GridSearchCV\n",
    "from sklearn.model_selection import GridSearchCV,RandomizedSearchCV\n",
    "from sklearn.model_selection import cross_val_score\n",
    "from sklearn.metrics import mean_absolute_error\n",
    "from sklearn.metrics import accuracy_score\n",
    "from sklearn.metrics import confusion_matrix\n",
    "\n",
    "from joblib import dump, load\n",
    "from sklearn.metrics import accuracy_score, f1_score, precision_score,recall_score\n",
    "from sklearn.linear_model import Perceptron\n",
    "from sklearn.linear_model import LogisticRegression\n",
    "from sklearn.neural_network import MLPClassifier\n",
    "from sklearn.tree import DecisionTreeClassifier\n",
    "from sklearn.ensemble import RandomForestClassifier, VotingClassifier\n",
    "from sklearn.ensemble import BaggingClassifier\n",
    "from sklearn.ensemble import AdaBoostClassifier\n",
    "from sklearn.svm import SVC\n",
    "\n",
    "\n",
    "from sklearn import svm, datasets\n",
    "from sklearn.model_selection import train_test_split\n",
    "from sklearn.metrics import confusion_matrix\n",
    "from sklearn.utils.multiclass import unique_labels\n",
    "from sklearn.metrics import roc_curve, auc\n",
    "from sklearn.model_selection import train_test_split\n",
    "from sklearn.preprocessing import label_binarize\n",
    "from sklearn.multiclass import OneVsRestClassifier\n",
    "from scipy import interp\n",
    "from itertools import cycle\n",
    "import seaborn as sns\n",
    "from sklearn.datasets import make_classification\n",
    "from sklearn.neighbors import KNeighborsClassifier\n",
    "from sklearn.ensemble import RandomForestClassifier\n",
    "from sklearn.model_selection import train_test_split\n",
    "from sklearn.metrics import roc_curve\n",
    "from sklearn.metrics import roc_auc_score\n",
    "import sklearn.metrics as metrics\n",
    "from tensorflow import keras\n",
    "from tensorflow.keras.models import Sequential\n",
    "from tensorflow.keras.layers import Dense, Dropout\n",
    "from tensorflow.keras.optimizers import Adam\n",
    "\n",
    "# Input data files are available in the \"../input/\" directory.\n",
    "# For example, running this (by clicking run or pressing Shift+Enter) will list all files under the input directory\n",
    "\n",
    "# Any results you write to the current directory are saved as output."
   ]
  },
  {
   "cell_type": "code",
   "execution_count": 2,
   "id": "9021b244",
   "metadata": {},
   "outputs": [],
   "source": [
    "def report_heatmap(y_pred,y_test):\n",
    "    \n",
    "    # overall accuracy \n",
    "    acc = accuracy_score(y_test, y_pred)\n",
    "    print( f'Overall Accuracy: {acc*100:.2f}%' )\n",
    "    print(\"--------------------------\")    \n",
    "    \n",
    "    # report\n",
    "    print(classification_report(y_test, y_pred))\n",
    "    figsize=(8,5)\n",
    "    #y_pred = y_pred.astype(int)\n",
    "    cm = confusion_matrix(y_test, y_pred, labels=np.unique(y_test))\n",
    "    cm_sum = np.sum(cm, axis=1, keepdims=True)\n",
    "    cm_perc = cm / cm_sum.astype(float) * 100\n",
    "    annot = np.empty_like(cm).astype(str)\n",
    "    nrows, ncols = cm.shape\n",
    "    for i in range(nrows):\n",
    "        for j in range(ncols):\n",
    "            c = cm[i, j]\n",
    "            p = cm_perc[i, j]\n",
    "            if i == j:\n",
    "                s = cm_sum[i]\n",
    "                annot[i, j] = '%.1f%%\\n%d/%d' % (p, c, s)\n",
    "            elif c == 0:\n",
    "                annot[i, j] = ''\n",
    "            else:\n",
    "                annot[i, j] = '%.1f%%\\n%d' % (p, c)\n",
    "    cm = pd.DataFrame(cm, index=np.unique(y_test), columns=np.unique(y_test))\n",
    "    cm.index.name = 'Actual'\n",
    "    cm.columns.name = 'Predicted'\n",
    "    fig, ax = plt.subplots(figsize=figsize)\n",
    "    \n",
    "    sns.heatmap(cm, cmap= \"YlGnBu\", annot=annot, fmt='', ax=ax)"
   ]
  },
  {
   "cell_type": "code",
   "execution_count": 3,
   "id": "b835f6cb",
   "metadata": {},
   "outputs": [],
   "source": [
    "df = pd.read_csv('balanced_dataset.csv')"
   ]
  },
  {
   "cell_type": "code",
   "execution_count": 4,
   "id": "dd40832c",
   "metadata": {},
   "outputs": [],
   "source": [
    "del df['Unnamed: 0']"
   ]
  },
  {
   "cell_type": "code",
   "execution_count": 5,
   "id": "db744035",
   "metadata": {},
   "outputs": [
    {
     "data": {
      "text/html": [
       "<div>\n",
       "<style scoped>\n",
       "    .dataframe tbody tr th:only-of-type {\n",
       "        vertical-align: middle;\n",
       "    }\n",
       "\n",
       "    .dataframe tbody tr th {\n",
       "        vertical-align: top;\n",
       "    }\n",
       "\n",
       "    .dataframe thead th {\n",
       "        text-align: right;\n",
       "    }\n",
       "</style>\n",
       "<table border=\"1\" class=\"dataframe\">\n",
       "  <thead>\n",
       "    <tr style=\"text-align: right;\">\n",
       "      <th></th>\n",
       "      <th>duration</th>\n",
       "      <th>orig_bytes</th>\n",
       "      <th>resp_bytes</th>\n",
       "      <th>orig_pkts</th>\n",
       "      <th>orig_ip_bytes</th>\n",
       "      <th>resp_pkts</th>\n",
       "      <th>resp_ip_bytes</th>\n",
       "      <th>label</th>\n",
       "      <th>proto_icmp</th>\n",
       "      <th>proto_tcp</th>\n",
       "      <th>proto_udp</th>\n",
       "      <th>conn_state_OTH</th>\n",
       "      <th>conn_state_REJ</th>\n",
       "      <th>conn_state_S0</th>\n",
       "      <th>conn_state_S1</th>\n",
       "    </tr>\n",
       "  </thead>\n",
       "  <tbody>\n",
       "    <tr>\n",
       "      <th>0</th>\n",
       "      <td>3.103243</td>\n",
       "      <td>0.0</td>\n",
       "      <td>0.0</td>\n",
       "      <td>3.0</td>\n",
       "      <td>180.0</td>\n",
       "      <td>0.0</td>\n",
       "      <td>0.0</td>\n",
       "      <td>0.0</td>\n",
       "      <td>0.0</td>\n",
       "      <td>1.0</td>\n",
       "      <td>0.0</td>\n",
       "      <td>0.0</td>\n",
       "      <td>0.0</td>\n",
       "      <td>1.0</td>\n",
       "      <td>0.0</td>\n",
       "    </tr>\n",
       "    <tr>\n",
       "      <th>1</th>\n",
       "      <td>-1.000000</td>\n",
       "      <td>-1.0</td>\n",
       "      <td>-1.0</td>\n",
       "      <td>2.0</td>\n",
       "      <td>80.0</td>\n",
       "      <td>0.0</td>\n",
       "      <td>0.0</td>\n",
       "      <td>1.0</td>\n",
       "      <td>0.0</td>\n",
       "      <td>1.0</td>\n",
       "      <td>0.0</td>\n",
       "      <td>0.0</td>\n",
       "      <td>0.0</td>\n",
       "      <td>1.0</td>\n",
       "      <td>0.0</td>\n",
       "    </tr>\n",
       "    <tr>\n",
       "      <th>2</th>\n",
       "      <td>-1.000000</td>\n",
       "      <td>-1.0</td>\n",
       "      <td>-1.0</td>\n",
       "      <td>6.0</td>\n",
       "      <td>360.0</td>\n",
       "      <td>0.0</td>\n",
       "      <td>0.0</td>\n",
       "      <td>1.0</td>\n",
       "      <td>0.0</td>\n",
       "      <td>1.0</td>\n",
       "      <td>0.0</td>\n",
       "      <td>0.0</td>\n",
       "      <td>0.0</td>\n",
       "      <td>1.0</td>\n",
       "      <td>0.0</td>\n",
       "    </tr>\n",
       "    <tr>\n",
       "      <th>3</th>\n",
       "      <td>-1.000000</td>\n",
       "      <td>-1.0</td>\n",
       "      <td>-1.0</td>\n",
       "      <td>2.0</td>\n",
       "      <td>80.0</td>\n",
       "      <td>0.0</td>\n",
       "      <td>0.0</td>\n",
       "      <td>1.0</td>\n",
       "      <td>0.0</td>\n",
       "      <td>1.0</td>\n",
       "      <td>0.0</td>\n",
       "      <td>0.0</td>\n",
       "      <td>0.0</td>\n",
       "      <td>1.0</td>\n",
       "      <td>0.0</td>\n",
       "    </tr>\n",
       "    <tr>\n",
       "      <th>4</th>\n",
       "      <td>-1.000000</td>\n",
       "      <td>-1.0</td>\n",
       "      <td>-1.0</td>\n",
       "      <td>2.0</td>\n",
       "      <td>120.0</td>\n",
       "      <td>0.0</td>\n",
       "      <td>0.0</td>\n",
       "      <td>1.0</td>\n",
       "      <td>0.0</td>\n",
       "      <td>1.0</td>\n",
       "      <td>0.0</td>\n",
       "      <td>0.0</td>\n",
       "      <td>0.0</td>\n",
       "      <td>1.0</td>\n",
       "      <td>0.0</td>\n",
       "    </tr>\n",
       "  </tbody>\n",
       "</table>\n",
       "</div>"
      ],
      "text/plain": [
       "   duration  orig_bytes  resp_bytes  orig_pkts  orig_ip_bytes  resp_pkts  \\\n",
       "0  3.103243         0.0         0.0        3.0          180.0        0.0   \n",
       "1 -1.000000        -1.0        -1.0        2.0           80.0        0.0   \n",
       "2 -1.000000        -1.0        -1.0        6.0          360.0        0.0   \n",
       "3 -1.000000        -1.0        -1.0        2.0           80.0        0.0   \n",
       "4 -1.000000        -1.0        -1.0        2.0          120.0        0.0   \n",
       "\n",
       "   resp_ip_bytes  label  proto_icmp  proto_tcp  proto_udp  conn_state_OTH  \\\n",
       "0            0.0    0.0         0.0        1.0        0.0             0.0   \n",
       "1            0.0    1.0         0.0        1.0        0.0             0.0   \n",
       "2            0.0    1.0         0.0        1.0        0.0             0.0   \n",
       "3            0.0    1.0         0.0        1.0        0.0             0.0   \n",
       "4            0.0    1.0         0.0        1.0        0.0             0.0   \n",
       "\n",
       "   conn_state_REJ  conn_state_S0  conn_state_S1  \n",
       "0             0.0            1.0            0.0  \n",
       "1             0.0            1.0            0.0  \n",
       "2             0.0            1.0            0.0  \n",
       "3             0.0            1.0            0.0  \n",
       "4             0.0            1.0            0.0  "
      ]
     },
     "execution_count": 5,
     "metadata": {},
     "output_type": "execute_result"
    }
   ],
   "source": [
    "df.head()"
   ]
  },
  {
   "cell_type": "code",
   "execution_count": 6,
   "id": "1f24b436",
   "metadata": {},
   "outputs": [
    {
     "data": {
      "text/plain": [
       "0.0    961750\n",
       "1.0    934971\n",
       "Name: label, dtype: int64"
      ]
     },
     "execution_count": 6,
     "metadata": {},
     "output_type": "execute_result"
    }
   ],
   "source": [
    "df['label'].value_counts()"
   ]
  },
  {
   "cell_type": "code",
   "execution_count": 7,
   "id": "060db3f4",
   "metadata": {},
   "outputs": [],
   "source": [
    "df_train,df_test=train_test_split(df, test_size=0.25, random_state=42)"
   ]
  },
  {
   "cell_type": "code",
   "execution_count": 8,
   "id": "129d9fd2",
   "metadata": {},
   "outputs": [
    {
     "data": {
      "text/plain": [
       "(1422540, 15)"
      ]
     },
     "execution_count": 8,
     "metadata": {},
     "output_type": "execute_result"
    }
   ],
   "source": [
    "df_train.shape"
   ]
  },
  {
   "cell_type": "code",
   "execution_count": 9,
   "id": "726a01aa",
   "metadata": {},
   "outputs": [
    {
     "data": {
      "text/plain": [
       "(474181, 15)"
      ]
     },
     "execution_count": 9,
     "metadata": {},
     "output_type": "execute_result"
    }
   ],
   "source": [
    "df_test.shape"
   ]
  },
  {
   "cell_type": "code",
   "execution_count": 10,
   "id": "61e2d1f3",
   "metadata": {},
   "outputs": [],
   "source": [
    "x = df_train.drop([\"label\"], axis=1)\n",
    "y = df_train[\"label\"].values"
   ]
  },
  {
   "cell_type": "code",
   "execution_count": 11,
   "id": "4ec749c9",
   "metadata": {},
   "outputs": [
    {
     "data": {
      "text/plain": [
       "pandas.core.frame.DataFrame"
      ]
     },
     "execution_count": 11,
     "metadata": {},
     "output_type": "execute_result"
    }
   ],
   "source": [
    "type(x)"
   ]
  },
  {
   "cell_type": "code",
   "execution_count": 12,
   "id": "90a89219",
   "metadata": {},
   "outputs": [
    {
     "data": {
      "text/plain": [
       "numpy.ndarray"
      ]
     },
     "execution_count": 12,
     "metadata": {},
     "output_type": "execute_result"
    }
   ],
   "source": [
    "type(y)"
   ]
  },
  {
   "cell_type": "code",
   "execution_count": 13,
   "id": "c7c1fd73",
   "metadata": {},
   "outputs": [
    {
     "data": {
      "text/plain": [
       "(1422540, 14)"
      ]
     },
     "execution_count": 13,
     "metadata": {},
     "output_type": "execute_result"
    }
   ],
   "source": [
    "x.shape"
   ]
  },
  {
   "cell_type": "markdown",
   "id": "510aaf5c",
   "metadata": {},
   "source": [
    "# For Evaluation"
   ]
  },
  {
   "cell_type": "code",
   "execution_count": 14,
   "id": "418248b7",
   "metadata": {},
   "outputs": [],
   "source": [
    "x_vld= df_test.drop([\"label\"], axis=1)\n",
    "y_vld = df_test[\"label\"].values"
   ]
  },
  {
   "cell_type": "code",
   "execution_count": 15,
   "id": "364e0434",
   "metadata": {},
   "outputs": [
    {
     "data": {
      "text/plain": [
       "numpy.ndarray"
      ]
     },
     "execution_count": 15,
     "metadata": {},
     "output_type": "execute_result"
    }
   ],
   "source": [
    "type(y_vld)"
   ]
  },
  {
   "cell_type": "code",
   "execution_count": 13,
   "id": "f5623c4e",
   "metadata": {},
   "outputs": [],
   "source": [
    "from sklearn import preprocessing\n",
    "\n",
    "x_scale = preprocessing.MinMaxScaler().fit_transform(x.values)\n",
    "x_vld_scale = preprocessing.MinMaxScaler().fit_transform(x_vld.values)\n",
    "#x_norm, x_anomaly = x_scale[y == 0], x_scale[y == 1]\n",
    "#x_norm_valid, x_anomaly_valid = x_scale[y == 0], x_scale[y == 1]"
   ]
  },
  {
   "cell_type": "code",
   "execution_count": 29,
   "id": "bbb052d0",
   "metadata": {},
   "outputs": [
    {
     "data": {
      "text/plain": [
       "numpy.ndarray"
      ]
     },
     "execution_count": 29,
     "metadata": {},
     "output_type": "execute_result"
    }
   ],
   "source": [
    "type(x_scale)"
   ]
  },
  {
   "cell_type": "code",
   "execution_count": 20,
   "id": "b95afc15",
   "metadata": {},
   "outputs": [
    {
     "name": "stdout",
     "output_type": "stream",
     "text": [
      "1.0000000000000002\n",
      "0.0\n"
     ]
    }
   ],
   "source": [
    "print(x_scale.max())\n",
    "print(x_scale.min())"
   ]
  },
  {
   "cell_type": "code",
   "execution_count": 17,
   "id": "f0e8f251",
   "metadata": {},
   "outputs": [
    {
     "data": {
      "text/plain": [
       "array([[1.21368120e-03, 3.50769140e-05, 2.46306736e-02, ...,\n",
       "        3.90577693e-02, 8.99813231e-01, 6.13712772e-03],\n",
       "       [1.20761635e-03, 3.26582360e-05, 3.06198041e-02, ...,\n",
       "        4.40658522e-02, 9.08072912e-01, 5.58683809e-03],\n",
       "       [1.11391873e-03, 3.50769140e-05, 2.46306736e-02, ...,\n",
       "        3.90577693e-02, 8.99813231e-01, 6.13712772e-03],\n",
       "       ...,\n",
       "       [1.31226229e-03, 4.48960818e-05, 2.62949130e-02, ...,\n",
       "        3.71111153e-02, 9.02631830e-01, 6.59861279e-03],\n",
       "       [1.11391873e-03, 3.50769140e-05, 2.46306736e-02, ...,\n",
       "        3.90577693e-02, 8.99813231e-01, 6.13712772e-03],\n",
       "       [1.07556912e-03, 4.35975243e-05, 3.27359890e-02, ...,\n",
       "        2.33679231e-02, 9.49497545e-01, 5.34806863e-03]])"
      ]
     },
     "execution_count": 17,
     "metadata": {},
     "output_type": "execute_result"
    }
   ],
   "source": [
    "x_vld_scale"
   ]
  },
  {
   "cell_type": "code",
   "execution_count": 21,
   "id": "aa76268b",
   "metadata": {},
   "outputs": [
    {
     "name": "stdout",
     "output_type": "stream",
     "text": [
      "1.0000000000000002\n",
      "0.0\n"
     ]
    }
   ],
   "source": [
    "print(x_vld_scale.max())\n",
    "print(x_vld_scale.min())"
   ]
  },
  {
   "cell_type": "markdown",
   "id": "2caf1013",
   "metadata": {},
   "source": [
    "Due to not getting good accuracy we didn't use scaled data"
   ]
  },
  {
   "cell_type": "markdown",
   "id": "3ed7bb1c",
   "metadata": {},
   "source": [
    "# LSTM+AE"
   ]
  },
  {
   "cell_type": "code",
   "execution_count": 16,
   "id": "b2714e9b",
   "metadata": {},
   "outputs": [
    {
     "name": "stdout",
     "output_type": "stream",
     "text": [
      "Model: \"sequential_5\"\n",
      "_________________________________________________________________\n",
      " Layer (type)                Output Shape              Param #   \n",
      "=================================================================\n",
      " sequential_3 (Sequential)   (None, 5)                 800       \n",
      "                                                                 \n",
      " sequential_4 (Sequential)   (None, 1)                 966       \n",
      "                                                                 \n",
      "=================================================================\n",
      "Total params: 1,766\n",
      "Trainable params: 1,766\n",
      "Non-trainable params: 0\n",
      "_________________________________________________________________\n",
      "14226/14226 [==============================] - 185s 13ms/step - loss: 0.1456 - accuracy: 0.9355\n"
     ]
    },
    {
     "data": {
      "text/plain": [
       "<keras.callbacks.History at 0x22d35a37d00>"
      ]
     },
     "execution_count": 16,
     "metadata": {},
     "output_type": "execute_result"
    }
   ],
   "source": [
    "#Selected\n",
    "\n",
    "lstm_encoder = keras.models.Sequential([\n",
    "keras.layers.LSTM(10, return_sequences=True, input_shape=[None, 1]),\n",
    "keras.layers.LSTM(5)\n",
    "])\n",
    "lstm_decoder = keras.models.Sequential([\n",
    "keras.layers.RepeatVector(3, input_shape=[5]),\n",
    "keras.layers.LSTM(5, return_sequences=True),\n",
    "keras.layers.LSTM(10),\n",
    "keras.layers.Dense(1, activation=\"sigmoid\")\n",
    "])\n",
    "lstm_ae = keras.models.Sequential([lstm_encoder, lstm_decoder])\n",
    "\n",
    "lstm_ae.compile(loss='binary_crossentropy',\n",
    "              optimizer=Adam(),\n",
    "              metrics=['accuracy'])\n",
    "lstm_ae.summary()\n",
    "lstm_ae.fit(x, y,batch_size=100,epochs=1)"
   ]
  },
  {
   "cell_type": "code",
   "execution_count": 17,
   "id": "2fb45325",
   "metadata": {},
   "outputs": [
    {
     "name": "stdout",
     "output_type": "stream",
     "text": [
      "14819/14819 [==============================] - 53s 4ms/step\n",
      "Overall Accuracy: 94.39%\n",
      "--------------------------\n",
      "              precision    recall  f1-score   support\n",
      "\n",
      "         0.0       1.00      0.89      0.94    240571\n",
      "         1.0       0.90      1.00      0.95    233610\n",
      "\n",
      "    accuracy                           0.94    474181\n",
      "   macro avg       0.95      0.94      0.94    474181\n",
      "weighted avg       0.95      0.94      0.94    474181\n",
      "\n"
     ]
    },
    {
     "data": {
      "image/png": "[encoded data removed]",
      "text/plain": [
       "<Figure size 800x500 with 2 Axes>"
      ]
     },
     "metadata": {},
     "output_type": "display_data"
    }
   ],
   "source": [
    "#Selected\n",
    "y_pred_lstm=(lstm_ae.predict(x_vld)> 0.5)\n",
    "report_heatmap(y_pred_lstm,y_vld)"
   ]
  },
  {
   "cell_type": "markdown",
   "id": "f90b671c",
   "metadata": {},
   "source": [
    "# GRU+AE"
   ]
  },
  {
   "cell_type": "code",
   "execution_count": 20,
   "id": "ed2ea401",
   "metadata": {},
   "outputs": [
    {
     "name": "stdout",
     "output_type": "stream",
     "text": [
      "Model: \"sequential_10\"\n",
      "_________________________________________________________________\n",
      " Layer (type)                Output Shape              Param #   \n",
      "=================================================================\n",
      " sequential_3 (Sequential)   (None, 5)                 800       \n",
      "                                                                 \n",
      " sequential_4 (Sequential)   (None, 1)                 966       \n",
      "                                                                 \n",
      "=================================================================\n",
      "Total params: 1,766\n",
      "Trainable params: 1,766\n",
      "Non-trainable params: 0\n",
      "_________________________________________________________________\n",
      "Epoch 1/2\n",
      "14226/14226 [==============================] - 176s 12ms/step - loss: 0.1252 - accuracy: 0.9439\n",
      "Epoch 2/2\n",
      "14226/14226 [==============================] - 168s 12ms/step - loss: 0.1250 - accuracy: 0.9436\n"
     ]
    },
    {
     "data": {
      "text/plain": [
       "<keras.callbacks.History at 0x22d3f35ccd0>"
      ]
     },
     "execution_count": 20,
     "metadata": {},
     "output_type": "execute_result"
    }
   ],
   "source": [
    "# selected\n",
    "\n",
    "gru_encoder = keras.models.Sequential([\n",
    "keras.layers.GRU(10, return_sequences=True, input_shape=[None, 1]),\n",
    "keras.layers.GRU(5)\n",
    "])\n",
    "gru_decoder = keras.models.Sequential([\n",
    "keras.layers.RepeatVector(3, input_shape=[5]),\n",
    "keras.layers.GRU(5, return_sequences=True),\n",
    "keras.layers.GRU(10),\n",
    "keras.layers.Dense(1, activation=\"sigmoid\")\n",
    "])\n",
    "gru_ae = keras.models.Sequential([gru_encoder, gru_decoder])\n",
    "\n",
    "gru_ae.compile(loss='binary_crossentropy',\n",
    "              optimizer=Adam(),\n",
    "              metrics=['accuracy'])\n",
    "gru_ae.summary()\n",
    "gru_ae.fit(x, y,batch_size=100,epochs=2)"
   ]
  },
  {
   "cell_type": "code",
   "execution_count": 21,
   "id": "27615353",
   "metadata": {},
   "outputs": [
    {
     "name": "stdout",
     "output_type": "stream",
     "text": [
      "14819/14819 [==============================] - 50s 3ms/step\n",
      "Overall Accuracy: 94.44%\n",
      "--------------------------\n",
      "              precision    recall  f1-score   support\n",
      "\n",
      "         0.0       1.00      0.89      0.94    240571\n",
      "         1.0       0.90      1.00      0.95    233610\n",
      "\n",
      "    accuracy                           0.94    474181\n",
      "   macro avg       0.95      0.95      0.94    474181\n",
      "weighted avg       0.95      0.94      0.94    474181\n",
      "\n"
     ]
    },
    {
     "data": {
      "image/png": "[encoded data removed]",
      "text/plain": [
       "<Figure size 800x500 with 2 Axes>"
      ]
     },
     "metadata": {},
     "output_type": "display_data"
    }
   ],
   "source": [
    "#Selected\n",
    "\n",
    "y_pred_gru=(gru_ae.predict(x_vld)> 0.5)\n",
    "report_heatmap(y_pred_gru,y_vld)"
   ]
  },
  {
   "cell_type": "markdown",
   "id": "986b0e74",
   "metadata": {},
   "source": [
    "# Biderectional RNN"
   ]
  },
  {
   "cell_type": "code",
   "execution_count": 19,
   "id": "f7b8d500",
   "metadata": {},
   "outputs": [
    {
     "name": "stdout",
     "output_type": "stream",
     "text": [
      "Model: \"sequential_2\"\n",
      "_________________________________________________________________\n",
      " Layer (type)                Output Shape              Param #   \n",
      "=================================================================\n",
      " simple_rnn_1 (SimpleRNN)    (None, None, 20)          440       \n",
      "                                                                 \n",
      " bidirectional_1 (Bidirectio  (None, 20)               2480      \n",
      " nal)                                                            \n",
      "                                                                 \n",
      " dense_2 (Dense)             (None, 1)                 21        \n",
      "                                                                 \n",
      "=================================================================\n",
      "Total params: 2,941\n",
      "Trainable params: 2,941\n",
      "Non-trainable params: 0\n",
      "_________________________________________________________________\n",
      "Epoch 1/2\n",
      "14226/14226 [==============================] - 94s 6ms/step - loss: 0.1283 - accuracy: 0.9430\n",
      "Epoch 2/2\n",
      "14226/14226 [==============================] - 102s 7ms/step - loss: 0.1223 - accuracy: 0.9450\n"
     ]
    },
    {
     "data": {
      "text/plain": [
       "<keras.callbacks.History at 0x2378667adf0>"
      ]
     },
     "execution_count": 19,
     "metadata": {},
     "output_type": "execute_result"
    }
   ],
   "source": [
    "# Selected\n",
    "\n",
    "from keras.layers import Bidirectional, SimpleRNN, Dense\n",
    "  \n",
    "B_rnn = Sequential()\n",
    "B_rnn.add(SimpleRNN(20, return_sequences=True, input_shape=[None, 1]))\n",
    "B_rnn.add(Bidirectional(LSTM(10)))\n",
    "B_rnn.add(Dense(1, activation='sigmoid'))\n",
    "B_rnn.compile(loss='binary_crossentropy',\n",
    "              optimizer=Adam(),\n",
    "              metrics=['accuracy'])\n",
    "B_rnn.summary()\n",
    "B_rnn.fit(x, y,batch_size=100,epochs=2)"
   ]
  },
  {
   "cell_type": "code",
   "execution_count": 20,
   "id": "7e8dc1b3",
   "metadata": {},
   "outputs": [
    {
     "name": "stdout",
     "output_type": "stream",
     "text": [
      "14819/14819 [==============================] - 30s 2ms/step\n",
      "Overall Accuracy: 94.47%\n",
      "--------------------------\n",
      "              precision    recall  f1-score   support\n",
      "\n",
      "         0.0       1.00      0.89      0.94    240571\n",
      "         1.0       0.90      1.00      0.95    233610\n",
      "\n",
      "    accuracy                           0.94    474181\n",
      "   macro avg       0.95      0.95      0.94    474181\n",
      "weighted avg       0.95      0.94      0.94    474181\n",
      "\n"
     ]
    },
    {
     "data": {
      "image/png": "[encoded data removed]",
      "text/plain": [
       "<Figure size 800x500 with 2 Axes>"
      ]
     },
     "metadata": {},
     "output_type": "display_data"
    }
   ],
   "source": [
    "# Selected\n",
    "y_pred_B_rnn=(B_rnn.predict(x_vld)> 0.5)\n",
    "report_heatmap(y_pred_B_rnn,y_vld)"
   ]
  },
  {
   "cell_type": "code",
   "execution_count": null,
   "id": "5777eb9f",
   "metadata": {},
   "outputs": [],
   "source": [
    "#END"
   ]
  }
 ],
 "metadata": {
  "kernelspec": {
   "display_name": "Python 3 (ipykernel)",
   "language": "python",
   "name": "python3"
  },
  "language_info": {
   "codemirror_mode": {
    "name": "ipython",
    "version": 3
   },
   "file_extension": ".py",
   "mimetype": "text/x-python",
   "name": "python",
   "nbconvert_exporter": "python",
   "pygments_lexer": "ipython3",
   "version": "3.9.13"
  }
 },
 "nbformat": 4,
 "nbformat_minor": 5
}
