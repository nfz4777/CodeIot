{
 "cells": [
  {
   "cell_type": "markdown",
   "id": "bd0f469a",
   "metadata": {},
   "source": [
    "We experimented with various methods, including DNNs, RNNs, LSTMs, and different architectures. The comment \n",
    "\n",
    "\"Selected\" in the code cells indicates that both the selected architectures and predictions are the ones \n",
    "\n",
    "highlighted in the paper."
   ]
  },
  {
   "cell_type": "code",
   "execution_count": 1,
   "id": "4696d40a",
   "metadata": {},
   "outputs": [],
   "source": [
    "import pandas as pd\n",
    "import numpy as np\n",
    "import tensorflow as tf\n",
    "from matplotlib import pyplot\n",
    "from tensorflow.keras import Model\n",
    "from tensorflow.keras import Sequential\n",
    "from tensorflow.keras.models import Sequential, Model\n",
    "from tensorflow.keras.layers import Conv2D, Input, Dropout, Activation, Dense, MaxPooling2D, Flatten, GlobalAveragePooling2D\n",
    "from tensorflow.keras.optimizers import Adadelta\n",
    "from tensorflow.keras.callbacks import ModelCheckpoint\n",
    "from tensorflow.keras.layers import Dense\n",
    "from tensorflow.keras.layers import LSTM\n",
    "import sklearn\n",
    "from sklearn.metrics import classification_report\n",
    "from sklearn.preprocessing import MinMaxScaler\n",
    "import pandas as pd\n",
    "import matplotlib.pyplot as plt\n",
    "import seaborn as sns\n",
    "import itertools\n",
    "import random\n",
    "import numpy as np\n",
    "import keras\n",
    "from sklearn.manifold import TSNE\n",
    "# processing imports\n",
    "from sklearn import preprocessing\n",
    "from sklearn.preprocessing import LabelEncoder\n",
    "from sklearn.model_selection import train_test_split,StratifiedKFold,GridSearchCV\n",
    "from sklearn.model_selection import GridSearchCV,RandomizedSearchCV\n",
    "from sklearn.model_selection import cross_val_score\n",
    "from sklearn.metrics import mean_absolute_error\n",
    "from sklearn.metrics import accuracy_score\n",
    "from sklearn.metrics import confusion_matrix\n",
    "\n",
    "from joblib import dump, load\n",
    "from sklearn.metrics import accuracy_score, f1_score, precision_score,recall_score\n",
    "from sklearn.linear_model import Perceptron\n",
    "from sklearn.linear_model import LogisticRegression\n",
    "from sklearn.neural_network import MLPClassifier\n",
    "from sklearn.tree import DecisionTreeClassifier\n",
    "from sklearn.ensemble import RandomForestClassifier, VotingClassifier\n",
    "from sklearn.ensemble import BaggingClassifier\n",
    "from sklearn.ensemble import AdaBoostClassifier\n",
    "from sklearn.svm import SVC\n",
    "\n",
    "\n",
    "from sklearn import svm, datasets\n",
    "from sklearn.model_selection import train_test_split\n",
    "from sklearn.metrics import confusion_matrix\n",
    "from sklearn.utils.multiclass import unique_labels\n",
    "from sklearn.metrics import roc_curve, auc\n",
    "from sklearn.model_selection import train_test_split\n",
    "from sklearn.preprocessing import label_binarize\n",
    "from sklearn.multiclass import OneVsRestClassifier\n",
    "from scipy import interp\n",
    "from itertools import cycle\n",
    "import seaborn as sns\n",
    "from sklearn.datasets import make_classification\n",
    "from sklearn.neighbors import KNeighborsClassifier\n",
    "from sklearn.ensemble import RandomForestClassifier\n",
    "from sklearn.model_selection import train_test_split\n",
    "from sklearn.metrics import roc_curve\n",
    "from sklearn.metrics import roc_auc_score\n",
    "import sklearn.metrics as metrics\n",
    "from tensorflow import keras\n",
    "from tensorflow.keras.models import Sequential\n",
    "from tensorflow.keras.layers import Dense, Dropout\n",
    "from tensorflow.keras.optimizers import Adam\n"
   ]
  },
  {
   "cell_type": "code",
   "execution_count": 2,
   "id": "3d18e57b",
   "metadata": {},
   "outputs": [],
   "source": [
    "def report_heatmap(y_pred,y_test):\n",
    "    \n",
    "    # overall accuracy \n",
    "    acc = accuracy_score(y_test, y_pred)\n",
    "    print( f'Overall Accuracy: {acc*100:.2f}%' )\n",
    "    print(\"--------------------------\")    \n",
    "    \n",
    "    # report\n",
    "    print(classification_report(y_test, y_pred))\n",
    "    figsize=(8,5)\n",
    "    #y_pred = y_pred.astype(int)\n",
    "    cm = confusion_matrix(y_test, y_pred, labels=np.unique(y_test))\n",
    "    cm_sum = np.sum(cm, axis=1, keepdims=True)\n",
    "    cm_perc = cm / cm_sum.astype(float) * 100\n",
    "    annot = np.empty_like(cm).astype(str)\n",
    "    nrows, ncols = cm.shape\n",
    "    for i in range(nrows):\n",
    "        for j in range(ncols):\n",
    "            c = cm[i, j]\n",
    "            p = cm_perc[i, j]\n",
    "            if i == j:\n",
    "                s = cm_sum[i]\n",
    "                annot[i, j] = '%.1f%%\\n%d/%d' % (p, c, s)\n",
    "            elif c == 0:\n",
    "                annot[i, j] = ''\n",
    "            else:\n",
    "                annot[i, j] = '%.1f%%\\n%d' % (p, c)\n",
    "    cm = pd.DataFrame(cm, index=np.unique(y_test), columns=np.unique(y_test))\n",
    "    cm.index.name = 'Actual'\n",
    "    cm.columns.name = 'Predicted'\n",
    "    fig, ax = plt.subplots(figsize=figsize)\n",
    "    \n",
    "    sns.heatmap(cm, cmap= \"YlGnBu\", annot=annot, fmt='', ax=ax)"
   ]
  },
  {
   "cell_type": "code",
   "execution_count": 3,
   "id": "b79588a8",
   "metadata": {},
   "outputs": [],
   "source": [
    "df = pd.read_csv('balanced_dataset.csv')"
   ]
  },
  {
   "cell_type": "code",
   "execution_count": 4,
   "id": "c1275c50",
   "metadata": {},
   "outputs": [
    {
     "data": {
      "text/html": [
       "<div>\n",
       "<style scoped>\n",
       "    .dataframe tbody tr th:only-of-type {\n",
       "        vertical-align: middle;\n",
       "    }\n",
       "\n",
       "    .dataframe tbody tr th {\n",
       "        vertical-align: top;\n",
       "    }\n",
       "\n",
       "    .dataframe thead th {\n",
       "        text-align: right;\n",
       "    }\n",
       "</style>\n",
       "<table border=\"1\" class=\"dataframe\">\n",
       "  <thead>\n",
       "    <tr style=\"text-align: right;\">\n",
       "      <th></th>\n",
       "      <th>Unnamed: 0</th>\n",
       "      <th>duration</th>\n",
       "      <th>orig_bytes</th>\n",
       "      <th>resp_bytes</th>\n",
       "      <th>orig_pkts</th>\n",
       "      <th>orig_ip_bytes</th>\n",
       "      <th>resp_pkts</th>\n",
       "      <th>resp_ip_bytes</th>\n",
       "      <th>label</th>\n",
       "      <th>proto_icmp</th>\n",
       "      <th>proto_tcp</th>\n",
       "      <th>proto_udp</th>\n",
       "      <th>conn_state_OTH</th>\n",
       "      <th>conn_state_REJ</th>\n",
       "      <th>conn_state_S0</th>\n",
       "      <th>conn_state_S1</th>\n",
       "    </tr>\n",
       "  </thead>\n",
       "  <tbody>\n",
       "    <tr>\n",
       "      <th>0</th>\n",
       "      <td>523144</td>\n",
       "      <td>3.103243</td>\n",
       "      <td>0.0</td>\n",
       "      <td>0.0</td>\n",
       "      <td>3.0</td>\n",
       "      <td>180.0</td>\n",
       "      <td>0.0</td>\n",
       "      <td>0.0</td>\n",
       "      <td>0.0</td>\n",
       "      <td>0.0</td>\n",
       "      <td>1.0</td>\n",
       "      <td>0.0</td>\n",
       "      <td>0.0</td>\n",
       "      <td>0.0</td>\n",
       "      <td>1.0</td>\n",
       "      <td>0.0</td>\n",
       "    </tr>\n",
       "    <tr>\n",
       "      <th>1</th>\n",
       "      <td>1082693</td>\n",
       "      <td>-1.000000</td>\n",
       "      <td>-1.0</td>\n",
       "      <td>-1.0</td>\n",
       "      <td>2.0</td>\n",
       "      <td>80.0</td>\n",
       "      <td>0.0</td>\n",
       "      <td>0.0</td>\n",
       "      <td>1.0</td>\n",
       "      <td>0.0</td>\n",
       "      <td>1.0</td>\n",
       "      <td>0.0</td>\n",
       "      <td>0.0</td>\n",
       "      <td>0.0</td>\n",
       "      <td>1.0</td>\n",
       "      <td>0.0</td>\n",
       "    </tr>\n",
       "    <tr>\n",
       "      <th>2</th>\n",
       "      <td>856694</td>\n",
       "      <td>-1.000000</td>\n",
       "      <td>-1.0</td>\n",
       "      <td>-1.0</td>\n",
       "      <td>6.0</td>\n",
       "      <td>360.0</td>\n",
       "      <td>0.0</td>\n",
       "      <td>0.0</td>\n",
       "      <td>1.0</td>\n",
       "      <td>0.0</td>\n",
       "      <td>1.0</td>\n",
       "      <td>0.0</td>\n",
       "      <td>0.0</td>\n",
       "      <td>0.0</td>\n",
       "      <td>1.0</td>\n",
       "      <td>0.0</td>\n",
       "    </tr>\n",
       "    <tr>\n",
       "      <th>3</th>\n",
       "      <td>145533</td>\n",
       "      <td>-1.000000</td>\n",
       "      <td>-1.0</td>\n",
       "      <td>-1.0</td>\n",
       "      <td>2.0</td>\n",
       "      <td>80.0</td>\n",
       "      <td>0.0</td>\n",
       "      <td>0.0</td>\n",
       "      <td>1.0</td>\n",
       "      <td>0.0</td>\n",
       "      <td>1.0</td>\n",
       "      <td>0.0</td>\n",
       "      <td>0.0</td>\n",
       "      <td>0.0</td>\n",
       "      <td>1.0</td>\n",
       "      <td>0.0</td>\n",
       "    </tr>\n",
       "    <tr>\n",
       "      <th>4</th>\n",
       "      <td>927896</td>\n",
       "      <td>-1.000000</td>\n",
       "      <td>-1.0</td>\n",
       "      <td>-1.0</td>\n",
       "      <td>2.0</td>\n",
       "      <td>120.0</td>\n",
       "      <td>0.0</td>\n",
       "      <td>0.0</td>\n",
       "      <td>1.0</td>\n",
       "      <td>0.0</td>\n",
       "      <td>1.0</td>\n",
       "      <td>0.0</td>\n",
       "      <td>0.0</td>\n",
       "      <td>0.0</td>\n",
       "      <td>1.0</td>\n",
       "      <td>0.0</td>\n",
       "    </tr>\n",
       "  </tbody>\n",
       "</table>\n",
       "</div>"
      ],
      "text/plain": [
       "   Unnamed: 0  duration  orig_bytes  resp_bytes  orig_pkts  orig_ip_bytes  \\\n",
       "0      523144  3.103243         0.0         0.0        3.0          180.0   \n",
       "1     1082693 -1.000000        -1.0        -1.0        2.0           80.0   \n",
       "2      856694 -1.000000        -1.0        -1.0        6.0          360.0   \n",
       "3      145533 -1.000000        -1.0        -1.0        2.0           80.0   \n",
       "4      927896 -1.000000        -1.0        -1.0        2.0          120.0   \n",
       "\n",
       "   resp_pkts  resp_ip_bytes  label  proto_icmp  proto_tcp  proto_udp  \\\n",
       "0        0.0            0.0    0.0         0.0        1.0        0.0   \n",
       "1        0.0            0.0    1.0         0.0        1.0        0.0   \n",
       "2        0.0            0.0    1.0         0.0        1.0        0.0   \n",
       "3        0.0            0.0    1.0         0.0        1.0        0.0   \n",
       "4        0.0            0.0    1.0         0.0        1.0        0.0   \n",
       "\n",
       "   conn_state_OTH  conn_state_REJ  conn_state_S0  conn_state_S1  \n",
       "0             0.0             0.0            1.0            0.0  \n",
       "1             0.0             0.0            1.0            0.0  \n",
       "2             0.0             0.0            1.0            0.0  \n",
       "3             0.0             0.0            1.0            0.0  \n",
       "4             0.0             0.0            1.0            0.0  "
      ]
     },
     "execution_count": 4,
     "metadata": {},
     "output_type": "execute_result"
    }
   ],
   "source": [
    "df.head()"
   ]
  },
  {
   "cell_type": "code",
   "execution_count": 5,
   "id": "cda234a1",
   "metadata": {},
   "outputs": [],
   "source": [
    "del df['Unnamed: 0']"
   ]
  },
  {
   "cell_type": "code",
   "execution_count": 6,
   "id": "d81dbb0d",
   "metadata": {},
   "outputs": [
    {
     "data": {
      "text/html": [
       "<div>\n",
       "<style scoped>\n",
       "    .dataframe tbody tr th:only-of-type {\n",
       "        vertical-align: middle;\n",
       "    }\n",
       "\n",
       "    .dataframe tbody tr th {\n",
       "        vertical-align: top;\n",
       "    }\n",
       "\n",
       "    .dataframe thead th {\n",
       "        text-align: right;\n",
       "    }\n",
       "</style>\n",
       "<table border=\"1\" class=\"dataframe\">\n",
       "  <thead>\n",
       "    <tr style=\"text-align: right;\">\n",
       "      <th></th>\n",
       "      <th>duration</th>\n",
       "      <th>orig_bytes</th>\n",
       "      <th>resp_bytes</th>\n",
       "      <th>orig_pkts</th>\n",
       "      <th>orig_ip_bytes</th>\n",
       "      <th>resp_pkts</th>\n",
       "      <th>resp_ip_bytes</th>\n",
       "      <th>label</th>\n",
       "      <th>proto_icmp</th>\n",
       "      <th>proto_tcp</th>\n",
       "      <th>proto_udp</th>\n",
       "      <th>conn_state_OTH</th>\n",
       "      <th>conn_state_REJ</th>\n",
       "      <th>conn_state_S0</th>\n",
       "      <th>conn_state_S1</th>\n",
       "    </tr>\n",
       "  </thead>\n",
       "  <tbody>\n",
       "    <tr>\n",
       "      <th>0</th>\n",
       "      <td>3.103243</td>\n",
       "      <td>0.0</td>\n",
       "      <td>0.0</td>\n",
       "      <td>3.0</td>\n",
       "      <td>180.0</td>\n",
       "      <td>0.0</td>\n",
       "      <td>0.0</td>\n",
       "      <td>0.0</td>\n",
       "      <td>0.0</td>\n",
       "      <td>1.0</td>\n",
       "      <td>0.0</td>\n",
       "      <td>0.0</td>\n",
       "      <td>0.0</td>\n",
       "      <td>1.0</td>\n",
       "      <td>0.0</td>\n",
       "    </tr>\n",
       "    <tr>\n",
       "      <th>1</th>\n",
       "      <td>-1.000000</td>\n",
       "      <td>-1.0</td>\n",
       "      <td>-1.0</td>\n",
       "      <td>2.0</td>\n",
       "      <td>80.0</td>\n",
       "      <td>0.0</td>\n",
       "      <td>0.0</td>\n",
       "      <td>1.0</td>\n",
       "      <td>0.0</td>\n",
       "      <td>1.0</td>\n",
       "      <td>0.0</td>\n",
       "      <td>0.0</td>\n",
       "      <td>0.0</td>\n",
       "      <td>1.0</td>\n",
       "      <td>0.0</td>\n",
       "    </tr>\n",
       "    <tr>\n",
       "      <th>2</th>\n",
       "      <td>-1.000000</td>\n",
       "      <td>-1.0</td>\n",
       "      <td>-1.0</td>\n",
       "      <td>6.0</td>\n",
       "      <td>360.0</td>\n",
       "      <td>0.0</td>\n",
       "      <td>0.0</td>\n",
       "      <td>1.0</td>\n",
       "      <td>0.0</td>\n",
       "      <td>1.0</td>\n",
       "      <td>0.0</td>\n",
       "      <td>0.0</td>\n",
       "      <td>0.0</td>\n",
       "      <td>1.0</td>\n",
       "      <td>0.0</td>\n",
       "    </tr>\n",
       "    <tr>\n",
       "      <th>3</th>\n",
       "      <td>-1.000000</td>\n",
       "      <td>-1.0</td>\n",
       "      <td>-1.0</td>\n",
       "      <td>2.0</td>\n",
       "      <td>80.0</td>\n",
       "      <td>0.0</td>\n",
       "      <td>0.0</td>\n",
       "      <td>1.0</td>\n",
       "      <td>0.0</td>\n",
       "      <td>1.0</td>\n",
       "      <td>0.0</td>\n",
       "      <td>0.0</td>\n",
       "      <td>0.0</td>\n",
       "      <td>1.0</td>\n",
       "      <td>0.0</td>\n",
       "    </tr>\n",
       "    <tr>\n",
       "      <th>4</th>\n",
       "      <td>-1.000000</td>\n",
       "      <td>-1.0</td>\n",
       "      <td>-1.0</td>\n",
       "      <td>2.0</td>\n",
       "      <td>120.0</td>\n",
       "      <td>0.0</td>\n",
       "      <td>0.0</td>\n",
       "      <td>1.0</td>\n",
       "      <td>0.0</td>\n",
       "      <td>1.0</td>\n",
       "      <td>0.0</td>\n",
       "      <td>0.0</td>\n",
       "      <td>0.0</td>\n",
       "      <td>1.0</td>\n",
       "      <td>0.0</td>\n",
       "    </tr>\n",
       "  </tbody>\n",
       "</table>\n",
       "</div>"
      ],
      "text/plain": [
       "   duration  orig_bytes  resp_bytes  orig_pkts  orig_ip_bytes  resp_pkts  \\\n",
       "0  3.103243         0.0         0.0        3.0          180.0        0.0   \n",
       "1 -1.000000        -1.0        -1.0        2.0           80.0        0.0   \n",
       "2 -1.000000        -1.0        -1.0        6.0          360.0        0.0   \n",
       "3 -1.000000        -1.0        -1.0        2.0           80.0        0.0   \n",
       "4 -1.000000        -1.0        -1.0        2.0          120.0        0.0   \n",
       "\n",
       "   resp_ip_bytes  label  proto_icmp  proto_tcp  proto_udp  conn_state_OTH  \\\n",
       "0            0.0    0.0         0.0        1.0        0.0             0.0   \n",
       "1            0.0    1.0         0.0        1.0        0.0             0.0   \n",
       "2            0.0    1.0         0.0        1.0        0.0             0.0   \n",
       "3            0.0    1.0         0.0        1.0        0.0             0.0   \n",
       "4            0.0    1.0         0.0        1.0        0.0             0.0   \n",
       "\n",
       "   conn_state_REJ  conn_state_S0  conn_state_S1  \n",
       "0             0.0            1.0            0.0  \n",
       "1             0.0            1.0            0.0  \n",
       "2             0.0            1.0            0.0  \n",
       "3             0.0            1.0            0.0  \n",
       "4             0.0            1.0            0.0  "
      ]
     },
     "execution_count": 6,
     "metadata": {},
     "output_type": "execute_result"
    }
   ],
   "source": [
    "df.head()"
   ]
  },
  {
   "cell_type": "code",
   "execution_count": 7,
   "id": "29f264ed",
   "metadata": {},
   "outputs": [
    {
     "data": {
      "text/plain": [
       "0.0    961750\n",
       "1.0    934971\n",
       "Name: label, dtype: int64"
      ]
     },
     "execution_count": 7,
     "metadata": {},
     "output_type": "execute_result"
    }
   ],
   "source": [
    "df['label'].value_counts()"
   ]
  },
  {
   "cell_type": "code",
   "execution_count": 8,
   "id": "cc2e4c09",
   "metadata": {},
   "outputs": [
    {
     "data": {
      "text/plain": [
       "(1896721, 15)"
      ]
     },
     "execution_count": 8,
     "metadata": {},
     "output_type": "execute_result"
    }
   ],
   "source": [
    "df.shape"
   ]
  },
  {
   "cell_type": "code",
   "execution_count": 9,
   "id": "0f66bca7",
   "metadata": {},
   "outputs": [
    {
     "name": "stdout",
     "output_type": "stream",
     "text": [
      "<class 'pandas.core.frame.DataFrame'>\n",
      "RangeIndex: 1896721 entries, 0 to 1896720\n",
      "Data columns (total 15 columns):\n",
      " #   Column          Dtype  \n",
      "---  ------          -----  \n",
      " 0   duration        float64\n",
      " 1   orig_bytes      float64\n",
      " 2   resp_bytes      float64\n",
      " 3   orig_pkts       float64\n",
      " 4   orig_ip_bytes   float64\n",
      " 5   resp_pkts       float64\n",
      " 6   resp_ip_bytes   float64\n",
      " 7   label           float64\n",
      " 8   proto_icmp      float64\n",
      " 9   proto_tcp       float64\n",
      " 10  proto_udp       float64\n",
      " 11  conn_state_OTH  float64\n",
      " 12  conn_state_REJ  float64\n",
      " 13  conn_state_S0   float64\n",
      " 14  conn_state_S1   float64\n",
      "dtypes: float64(15)\n",
      "memory usage: 217.1 MB\n"
     ]
    }
   ],
   "source": [
    "df.info()"
   ]
  },
  {
   "cell_type": "code",
   "execution_count": 10,
   "id": "8b68b0b3",
   "metadata": {},
   "outputs": [
    {
     "data": {
      "text/html": [
       "<div>\n",
       "<style scoped>\n",
       "    .dataframe tbody tr th:only-of-type {\n",
       "        vertical-align: middle;\n",
       "    }\n",
       "\n",
       "    .dataframe tbody tr th {\n",
       "        vertical-align: top;\n",
       "    }\n",
       "\n",
       "    .dataframe thead th {\n",
       "        text-align: right;\n",
       "    }\n",
       "</style>\n",
       "<table border=\"1\" class=\"dataframe\">\n",
       "  <thead>\n",
       "    <tr style=\"text-align: right;\">\n",
       "      <th></th>\n",
       "      <th>duration</th>\n",
       "      <th>orig_bytes</th>\n",
       "      <th>resp_bytes</th>\n",
       "      <th>orig_pkts</th>\n",
       "      <th>orig_ip_bytes</th>\n",
       "      <th>resp_pkts</th>\n",
       "      <th>resp_ip_bytes</th>\n",
       "      <th>label</th>\n",
       "      <th>proto_icmp</th>\n",
       "      <th>proto_tcp</th>\n",
       "      <th>proto_udp</th>\n",
       "      <th>conn_state_OTH</th>\n",
       "      <th>conn_state_REJ</th>\n",
       "      <th>conn_state_S0</th>\n",
       "      <th>conn_state_S1</th>\n",
       "    </tr>\n",
       "  </thead>\n",
       "  <tbody>\n",
       "    <tr>\n",
       "      <th>count</th>\n",
       "      <td>1.896721e+06</td>\n",
       "      <td>1.896721e+06</td>\n",
       "      <td>1.896721e+06</td>\n",
       "      <td>1.896721e+06</td>\n",
       "      <td>1.896721e+06</td>\n",
       "      <td>1.896721e+06</td>\n",
       "      <td>1.896721e+06</td>\n",
       "      <td>1.896721e+06</td>\n",
       "      <td>1.896721e+06</td>\n",
       "      <td>1.896721e+06</td>\n",
       "      <td>1.896721e+06</td>\n",
       "      <td>1.896721e+06</td>\n",
       "      <td>1.896721e+06</td>\n",
       "      <td>1.896721e+06</td>\n",
       "      <td>1.896721e+06</td>\n",
       "    </tr>\n",
       "    <tr>\n",
       "      <th>mean</th>\n",
       "      <td>9.939172e-01</td>\n",
       "      <td>2.259415e+03</td>\n",
       "      <td>1.204505e+03</td>\n",
       "      <td>9.447143e+01</td>\n",
       "      <td>4.002427e+04</td>\n",
       "      <td>1.379072e-01</td>\n",
       "      <td>6.307683e+00</td>\n",
       "      <td>4.929407e-01</td>\n",
       "      <td>9.450286e-03</td>\n",
       "      <td>8.531721e-01</td>\n",
       "      <td>1.373458e-01</td>\n",
       "      <td>5.463121e-02</td>\n",
       "      <td>4.757778e-03</td>\n",
       "      <td>9.055445e-01</td>\n",
       "      <td>9.985138e-05</td>\n",
       "    </tr>\n",
       "    <tr>\n",
       "      <th>std</th>\n",
       "      <td>1.170665e+02</td>\n",
       "      <td>1.498276e+06</td>\n",
       "      <td>8.714049e+03</td>\n",
       "      <td>6.186901e+04</td>\n",
       "      <td>2.462160e+06</td>\n",
       "      <td>1.041766e+01</td>\n",
       "      <td>9.106090e+03</td>\n",
       "      <td>4.999503e-01</td>\n",
       "      <td>9.717652e-02</td>\n",
       "      <td>3.551985e-01</td>\n",
       "      <td>3.454452e-01</td>\n",
       "      <td>2.274508e-01</td>\n",
       "      <td>6.911150e-02</td>\n",
       "      <td>2.930604e-01</td>\n",
       "      <td>1.004894e-02</td>\n",
       "    </tr>\n",
       "    <tr>\n",
       "      <th>min</th>\n",
       "      <td>-3.838919e+01</td>\n",
       "      <td>-3.375736e+04</td>\n",
       "      <td>-5.478376e+03</td>\n",
       "      <td>-1.773872e+04</td>\n",
       "      <td>-2.536385e+04</td>\n",
       "      <td>-9.626610e+00</td>\n",
       "      <td>-1.542204e+04</td>\n",
       "      <td>0.000000e+00</td>\n",
       "      <td>-6.330904e-02</td>\n",
       "      <td>-1.872771e-01</td>\n",
       "      <td>-2.088951e-01</td>\n",
       "      <td>-6.682470e-02</td>\n",
       "      <td>-4.703961e-02</td>\n",
       "      <td>-1.259615e-01</td>\n",
       "      <td>-6.198886e-03</td>\n",
       "    </tr>\n",
       "    <tr>\n",
       "      <th>25%</th>\n",
       "      <td>-1.000000e+00</td>\n",
       "      <td>-1.000000e+00</td>\n",
       "      <td>0.000000e+00</td>\n",
       "      <td>0.000000e+00</td>\n",
       "      <td>4.000000e+01</td>\n",
       "      <td>0.000000e+00</td>\n",
       "      <td>0.000000e+00</td>\n",
       "      <td>0.000000e+00</td>\n",
       "      <td>0.000000e+00</td>\n",
       "      <td>9.811442e-01</td>\n",
       "      <td>0.000000e+00</td>\n",
       "      <td>0.000000e+00</td>\n",
       "      <td>0.000000e+00</td>\n",
       "      <td>9.927470e-01</td>\n",
       "      <td>0.000000e+00</td>\n",
       "    </tr>\n",
       "    <tr>\n",
       "      <th>50%</th>\n",
       "      <td>0.000000e+00</td>\n",
       "      <td>0.000000e+00</td>\n",
       "      <td>0.000000e+00</td>\n",
       "      <td>1.000000e+00</td>\n",
       "      <td>1.600000e+02</td>\n",
       "      <td>0.000000e+00</td>\n",
       "      <td>0.000000e+00</td>\n",
       "      <td>0.000000e+00</td>\n",
       "      <td>0.000000e+00</td>\n",
       "      <td>1.000000e+00</td>\n",
       "      <td>0.000000e+00</td>\n",
       "      <td>0.000000e+00</td>\n",
       "      <td>0.000000e+00</td>\n",
       "      <td>1.000000e+00</td>\n",
       "      <td>0.000000e+00</td>\n",
       "    </tr>\n",
       "    <tr>\n",
       "      <th>75%</th>\n",
       "      <td>1.663869e+00</td>\n",
       "      <td>0.000000e+00</td>\n",
       "      <td>2.077302e+03</td>\n",
       "      <td>3.000000e+00</td>\n",
       "      <td>5.474316e+04</td>\n",
       "      <td>0.000000e+00</td>\n",
       "      <td>0.000000e+00</td>\n",
       "      <td>1.000000e+00</td>\n",
       "      <td>0.000000e+00</td>\n",
       "      <td>1.000000e+00</td>\n",
       "      <td>1.587415e-02</td>\n",
       "      <td>1.217598e-03</td>\n",
       "      <td>0.000000e+00</td>\n",
       "      <td>1.000000e+00</td>\n",
       "      <td>0.000000e+00</td>\n",
       "    </tr>\n",
       "    <tr>\n",
       "      <th>max</th>\n",
       "      <td>4.897682e+04</td>\n",
       "      <td>1.744830e+09</td>\n",
       "      <td>1.166102e+07</td>\n",
       "      <td>6.602735e+07</td>\n",
       "      <td>1.914793e+09</td>\n",
       "      <td>9.307000e+03</td>\n",
       "      <td>1.207699e+07</td>\n",
       "      <td>1.000000e+00</td>\n",
       "      <td>1.056745e+00</td>\n",
       "      <td>1.212814e+00</td>\n",
       "      <td>1.209808e+00</td>\n",
       "      <td>1.050136e+00</td>\n",
       "      <td>1.037400e+00</td>\n",
       "      <td>1.136759e+00</td>\n",
       "      <td>1.003876e+00</td>\n",
       "    </tr>\n",
       "  </tbody>\n",
       "</table>\n",
       "</div>"
      ],
      "text/plain": [
       "           duration    orig_bytes    resp_bytes     orig_pkts  orig_ip_bytes  \\\n",
       "count  1.896721e+06  1.896721e+06  1.896721e+06  1.896721e+06   1.896721e+06   \n",
       "mean   9.939172e-01  2.259415e+03  1.204505e+03  9.447143e+01   4.002427e+04   \n",
       "std    1.170665e+02  1.498276e+06  8.714049e+03  6.186901e+04   2.462160e+06   \n",
       "min   -3.838919e+01 -3.375736e+04 -5.478376e+03 -1.773872e+04  -2.536385e+04   \n",
       "25%   -1.000000e+00 -1.000000e+00  0.000000e+00  0.000000e+00   4.000000e+01   \n",
       "50%    0.000000e+00  0.000000e+00  0.000000e+00  1.000000e+00   1.600000e+02   \n",
       "75%    1.663869e+00  0.000000e+00  2.077302e+03  3.000000e+00   5.474316e+04   \n",
       "max    4.897682e+04  1.744830e+09  1.166102e+07  6.602735e+07   1.914793e+09   \n",
       "\n",
       "          resp_pkts  resp_ip_bytes         label    proto_icmp     proto_tcp  \\\n",
       "count  1.896721e+06   1.896721e+06  1.896721e+06  1.896721e+06  1.896721e+06   \n",
       "mean   1.379072e-01   6.307683e+00  4.929407e-01  9.450286e-03  8.531721e-01   \n",
       "std    1.041766e+01   9.106090e+03  4.999503e-01  9.717652e-02  3.551985e-01   \n",
       "min   -9.626610e+00  -1.542204e+04  0.000000e+00 -6.330904e-02 -1.872771e-01   \n",
       "25%    0.000000e+00   0.000000e+00  0.000000e+00  0.000000e+00  9.811442e-01   \n",
       "50%    0.000000e+00   0.000000e+00  0.000000e+00  0.000000e+00  1.000000e+00   \n",
       "75%    0.000000e+00   0.000000e+00  1.000000e+00  0.000000e+00  1.000000e+00   \n",
       "max    9.307000e+03   1.207699e+07  1.000000e+00  1.056745e+00  1.212814e+00   \n",
       "\n",
       "          proto_udp  conn_state_OTH  conn_state_REJ  conn_state_S0  \\\n",
       "count  1.896721e+06    1.896721e+06    1.896721e+06   1.896721e+06   \n",
       "mean   1.373458e-01    5.463121e-02    4.757778e-03   9.055445e-01   \n",
       "std    3.454452e-01    2.274508e-01    6.911150e-02   2.930604e-01   \n",
       "min   -2.088951e-01   -6.682470e-02   -4.703961e-02  -1.259615e-01   \n",
       "25%    0.000000e+00    0.000000e+00    0.000000e+00   9.927470e-01   \n",
       "50%    0.000000e+00    0.000000e+00    0.000000e+00   1.000000e+00   \n",
       "75%    1.587415e-02    1.217598e-03    0.000000e+00   1.000000e+00   \n",
       "max    1.209808e+00    1.050136e+00    1.037400e+00   1.136759e+00   \n",
       "\n",
       "       conn_state_S1  \n",
       "count   1.896721e+06  \n",
       "mean    9.985138e-05  \n",
       "std     1.004894e-02  \n",
       "min    -6.198886e-03  \n",
       "25%     0.000000e+00  \n",
       "50%     0.000000e+00  \n",
       "75%     0.000000e+00  \n",
       "max     1.003876e+00  "
      ]
     },
     "execution_count": 10,
     "metadata": {},
     "output_type": "execute_result"
    }
   ],
   "source": [
    "df.describe()"
   ]
  },
  {
   "cell_type": "code",
   "execution_count": 11,
   "id": "3beb51ba",
   "metadata": {},
   "outputs": [
    {
     "data": {
      "text/plain": [
       "duration          1.170665e+02\n",
       "orig_bytes        1.498276e+06\n",
       "resp_bytes        8.714049e+03\n",
       "orig_pkts         6.186901e+04\n",
       "orig_ip_bytes     2.462160e+06\n",
       "resp_pkts         1.041766e+01\n",
       "resp_ip_bytes     9.106090e+03\n",
       "label             4.999503e-01\n",
       "proto_icmp        9.717652e-02\n",
       "proto_tcp         3.551985e-01\n",
       "proto_udp         3.454452e-01\n",
       "conn_state_OTH    2.274508e-01\n",
       "conn_state_REJ    6.911150e-02\n",
       "conn_state_S0     2.930604e-01\n",
       "conn_state_S1     1.004894e-02\n",
       "dtype: float64"
      ]
     },
     "execution_count": 11,
     "metadata": {},
     "output_type": "execute_result"
    }
   ],
   "source": [
    "df.std()"
   ]
  },
  {
   "cell_type": "code",
   "execution_count": 12,
   "id": "97074d7a",
   "metadata": {},
   "outputs": [
    {
     "data": {
      "text/plain": [
       "(1896721, 15)"
      ]
     },
     "execution_count": 12,
     "metadata": {},
     "output_type": "execute_result"
    }
   ],
   "source": [
    "df.shape"
   ]
  },
  {
   "cell_type": "code",
   "execution_count": 13,
   "id": "3ef80799",
   "metadata": {},
   "outputs": [],
   "source": [
    "df_train,df_test=train_test_split(df, test_size=0.25, random_state=42)"
   ]
  },
  {
   "cell_type": "code",
   "execution_count": 14,
   "id": "be0a79e4",
   "metadata": {},
   "outputs": [
    {
     "data": {
      "text/plain": [
       "(1422540, 15)"
      ]
     },
     "execution_count": 14,
     "metadata": {},
     "output_type": "execute_result"
    }
   ],
   "source": [
    "df_train.shape"
   ]
  },
  {
   "cell_type": "code",
   "execution_count": 15,
   "id": "343da5c7",
   "metadata": {},
   "outputs": [
    {
     "data": {
      "text/plain": [
       "(474181, 15)"
      ]
     },
     "execution_count": 15,
     "metadata": {},
     "output_type": "execute_result"
    }
   ],
   "source": [
    "df_test.shape"
   ]
  },
  {
   "cell_type": "code",
   "execution_count": 16,
   "id": "7ff09a12",
   "metadata": {},
   "outputs": [],
   "source": [
    "x = df_train.drop([\"label\"], axis=1)\n",
    "y = df_train[\"label\"].values"
   ]
  },
  {
   "cell_type": "code",
   "execution_count": 17,
   "id": "796e5977",
   "metadata": {},
   "outputs": [
    {
     "data": {
      "text/plain": [
       "(1422540, 14)"
      ]
     },
     "execution_count": 17,
     "metadata": {},
     "output_type": "execute_result"
    }
   ],
   "source": [
    "x.shape"
   ]
  },
  {
   "cell_type": "markdown",
   "id": "75aa7c25",
   "metadata": {},
   "source": [
    "# For Evaluation"
   ]
  },
  {
   "cell_type": "code",
   "execution_count": 18,
   "id": "0158076b",
   "metadata": {},
   "outputs": [],
   "source": [
    "x_vld= df_test.drop([\"label\"], axis=1)\n",
    "y_vld = df_test[\"label\"].values"
   ]
  },
  {
   "cell_type": "code",
   "execution_count": 19,
   "id": "506c22eb",
   "metadata": {},
   "outputs": [],
   "source": [
    "#train_x, test_x, train_y, test_y = train_test_split(x, y, test_size=0.25)"
   ]
  },
  {
   "cell_type": "code",
   "execution_count": 20,
   "id": "ea9b03e7",
   "metadata": {},
   "outputs": [],
   "source": [
    "#train_x.shape"
   ]
  },
  {
   "cell_type": "markdown",
   "id": "addd686e",
   "metadata": {},
   "source": [
    "# DNN"
   ]
  },
  {
   "cell_type": "code",
   "execution_count": 42,
   "id": "9fd2aaf1",
   "metadata": {},
   "outputs": [
    {
     "name": "stdout",
     "output_type": "stream",
     "text": [
      "Model: \"sequential_1\"\n",
      "_________________________________________________________________\n",
      " Layer (type)                Output Shape              Param #   \n",
      "=================================================================\n",
      " dense_5 (Dense)             (None, 100)               1500      \n",
      "                                                                 \n",
      " dense_6 (Dense)             (None, 50)                5050      \n",
      "                                                                 \n",
      " dense_7 (Dense)             (None, 40)                2040      \n",
      "                                                                 \n",
      " dense_8 (Dense)             (None, 40)                1640      \n",
      "                                                                 \n",
      " dense_9 (Dense)             (None, 1)                 41        \n",
      "                                                                 \n",
      "=================================================================\n",
      "Total params: 10,271\n",
      "Trainable params: 10,271\n",
      "Non-trainable params: 0\n",
      "_________________________________________________________________\n",
      "Epoch 1/2\n",
      "14226/14226 [==============================] - 16s 1ms/step - loss: 1717.5267 - accuracy: 0.8898\n",
      "Epoch 2/2\n",
      "14226/14226 [==============================] - 16s 1ms/step - loss: 1915.6052 - accuracy: 0.9086\n"
     ]
    },
    {
     "data": {
      "text/plain": [
       "<keras.callbacks.History at 0x1c988c9e9d0>"
      ]
     },
     "execution_count": 42,
     "metadata": {},
     "output_type": "execute_result"
    }
   ],
   "source": [
    "#Selected\n",
    "#Using Neural Networks\n",
    "from tensorflow import keras\n",
    "from tensorflow.keras.models import Sequential\n",
    "from tensorflow.keras.layers import Dense, Dropout\n",
    "from tensorflow.keras.optimizers import Adam\n",
    "\n",
    "model = Sequential()\n",
    "model.add(Dense(100, activation='relu', input_shape=(x.shape[1],)))\n",
    "\n",
    "model.add(Dense(50, activation='relu'))\n",
    "model.add(Dense(40, activation='relu'))\n",
    "model.add(Dense(40, activation='relu'))\n",
    "model.add(Dense(1, activation='sigmoid')) \n",
    "\n",
    "model.compile(loss='binary_crossentropy',\n",
    "              optimizer=Adam(),\n",
    "              metrics=['accuracy'])\n",
    "model.summary()\n",
    "model.fit(x, y,batch_size=100,epochs=2)\n"
   ]
  },
  {
   "cell_type": "code",
   "execution_count": 45,
   "id": "9ab9ffe6",
   "metadata": {},
   "outputs": [
    {
     "name": "stdout",
     "output_type": "stream",
     "text": [
      "14819/14819 [==============================] - 9s 587us/step\n",
      "Overall Accuracy: 94.41%\n",
      "--------------------------\n",
      "              precision    recall  f1-score   support\n",
      "\n",
      "         0.0       1.00      0.89      0.94    240571\n",
      "         1.0       0.90      1.00      0.95    233610\n",
      "\n",
      "    accuracy                           0.94    474181\n",
      "   macro avg       0.95      0.94      0.94    474181\n",
      "weighted avg       0.95      0.94      0.94    474181\n",
      "\n"
     ]
    },
    {
     "data": {
      "image/png": "[encoded data removed]",
      "text/plain": [
       "<Figure size 800x500 with 2 Axes>"
      ]
     },
     "metadata": {},
     "output_type": "display_data"
    }
   ],
   "source": [
    "#Selected\n",
    "y_pred_NN=(model.predict(x_vld)> 0.5)\n",
    "report_heatmap(y_pred_NN,y_vld)"
   ]
  },
  {
   "cell_type": "markdown",
   "id": "3c698105",
   "metadata": {},
   "source": [
    "# LSTM"
   ]
  },
  {
   "cell_type": "code",
   "execution_count": 21,
   "id": "b7a088c9",
   "metadata": {},
   "outputs": [
    {
     "name": "stdout",
     "output_type": "stream",
     "text": [
      "Model: \"sequential\"\n",
      "_________________________________________________________________\n",
      " Layer (type)                Output Shape              Param #   \n",
      "=================================================================\n",
      " lstm (LSTM)                 (None, None, 20)          1760      \n",
      "                                                                 \n",
      " lstm_1 (LSTM)               (None, None, 10)          1240      \n",
      "                                                                 \n",
      " lstm_2 (LSTM)               (None, 5)                 320       \n",
      "                                                                 \n",
      " dense (Dense)               (None, 1)                 6         \n",
      "                                                                 \n",
      "=================================================================\n",
      "Total params: 3,326\n",
      "Trainable params: 3,326\n",
      "Non-trainable params: 0\n",
      "_________________________________________________________________\n",
      "Epoch 1/2\n",
      "14226/14226 [==============================] - 543s 37ms/step - loss: 0.1693 - accuracy: 0.9261\n",
      "Epoch 2/2\n",
      "14226/14226 [==============================] - 523s 37ms/step - loss: 0.1503 - accuracy: 0.9323\n"
     ]
    },
    {
     "data": {
      "text/plain": [
       "<keras.callbacks.History at 0x1e0804e9af0>"
      ]
     },
     "execution_count": 21,
     "metadata": {},
     "output_type": "execute_result"
    }
   ],
   "source": [
    "#Selected\n",
    "L_S_T_M2 = keras.models.Sequential([\n",
    "keras.layers.LSTM(20, return_sequences=True, input_shape=[None, 1]),\n",
    "keras.layers.LSTM(10, return_sequences=True),\n",
    "keras.layers.LSTM(5),\n",
    "keras.layers.Dense(1,activation='sigmoid')\n",
    "])\n",
    "\n",
    "L_S_T_M2.compile(loss='binary_crossentropy',\n",
    "              optimizer=Adam(),\n",
    "              metrics=['accuracy'])\n",
    "L_S_T_M2.summary()\n",
    "L_S_T_M2.fit(x, y,batch_size=100,epochs=2)"
   ]
  },
  {
   "cell_type": "code",
   "execution_count": 22,
   "id": "2cf67809",
   "metadata": {},
   "outputs": [
    {
     "name": "stdout",
     "output_type": "stream",
     "text": [
      "14819/14819 [==============================] - 72s 5ms/step\n",
      "Overall Accuracy: 96.10%\n",
      "--------------------------\n",
      "              precision    recall  f1-score   support\n",
      "\n",
      "         0.0       0.99      0.93      0.96    240571\n",
      "         1.0       0.93      0.99      0.96    233610\n",
      "\n",
      "    accuracy                           0.96    474181\n",
      "   macro avg       0.96      0.96      0.96    474181\n",
      "weighted avg       0.96      0.96      0.96    474181\n",
      "\n"
     ]
    },
    {
     "data": {
      "image/png": "[encoded data removed]",
      "text/plain": [
       "<Figure size 800x500 with 2 Axes>"
      ]
     },
     "metadata": {},
     "output_type": "display_data"
    }
   ],
   "source": [
    "#Selected\n",
    "y_pred_L_S_T_M2=(L_S_T_M2.predict(x_vld)> 0.5)\n",
    "report_heatmap(y_pred_L_S_T_M2,y_vld)"
   ]
  },
  {
   "cell_type": "markdown",
   "id": "5d237634",
   "metadata": {},
   "source": [
    "# GRU"
   ]
  },
  {
   "cell_type": "code",
   "execution_count": 48,
   "id": "fc7ad3b2",
   "metadata": {},
   "outputs": [
    {
     "name": "stdout",
     "output_type": "stream",
     "text": [
      "Model: \"sequential_12\"\n",
      "_________________________________________________________________\n",
      " Layer (type)                Output Shape              Param #   \n",
      "=================================================================\n",
      " conv1d_12 (Conv1D)          (None, None, 5)           15        \n",
      "                                                                 \n",
      " gru_31 (GRU)                (None, None, 5)           180       \n",
      "                                                                 \n",
      " gru_32 (GRU)                (None, 3)                 90        \n",
      "                                                                 \n",
      " dense_12 (Dense)            (None, 1)                 4         \n",
      "                                                                 \n",
      "=================================================================\n",
      "Total params: 289\n",
      "Trainable params: 289\n",
      "Non-trainable params: 0\n",
      "_________________________________________________________________\n",
      "Epoch 1/3\n",
      "14226/14226 [==============================] - 65s 4ms/step - loss: 0.1469 - accuracy: 0.9422\n",
      "Epoch 2/3\n",
      "14226/14226 [==============================] - 70s 5ms/step - loss: 0.1122 - accuracy: 0.9585\n",
      "Epoch 3/3\n",
      "14226/14226 [==============================] - 69s 5ms/step - loss: 0.1047 - accuracy: 0.9614\n"
     ]
    },
    {
     "data": {
      "text/plain": [
       "<keras.callbacks.History at 0x1bf83ff3100>"
      ]
     },
     "execution_count": 48,
     "metadata": {},
     "output_type": "execute_result"
    }
   ],
   "source": [
    "#Selected\n",
    "gru = keras.models.Sequential([\n",
    "keras.layers.Conv1D(filters=5, kernel_size=2, strides=2, padding=\"valid\",input_shape=[None, 1]),\n",
    "keras.layers.GRU(5,return_sequences=True),\n",
    "keras.layers.GRU(3),\n",
    "keras.layers.Dense(1,activation='sigmoid')\n",
    "])\n",
    "\n",
    "gru.compile(loss='binary_crossentropy',\n",
    "              optimizer=Adam(),\n",
    "              metrics=['accuracy'])\n",
    "gru.summary()\n",
    "gru.fit(x, y,batch_size=100,epochs=3)"
   ]
  },
  {
   "cell_type": "code",
   "execution_count": 49,
   "id": "caa1ecfc",
   "metadata": {},
   "outputs": [
    {
     "name": "stdout",
     "output_type": "stream",
     "text": [
      "14819/14819 [==============================] - 19s 1ms/step\n",
      "Overall Accuracy: 96.23%\n",
      "--------------------------\n",
      "              precision    recall  f1-score   support\n",
      "\n",
      "         0.0       1.00      0.93      0.96    240571\n",
      "         1.0       0.93      1.00      0.96    233610\n",
      "\n",
      "    accuracy                           0.96    474181\n",
      "   macro avg       0.96      0.96      0.96    474181\n",
      "weighted avg       0.96      0.96      0.96    474181\n",
      "\n"
     ]
    },
    {
     "data": {
      "image/png": "[encoded data removed]",
      "text/plain": [
       "<Figure size 800x500 with 2 Axes>"
      ]
     },
     "metadata": {},
     "output_type": "display_data"
    }
   ],
   "source": [
    "#Selected\n",
    "y_pred_gru=(gru.predict(x_vld)> 0.5)\n",
    "report_heatmap(y_pred_gru,y_vld)"
   ]
  },
  {
   "cell_type": "code",
   "execution_count": null,
   "id": "feccd5a0",
   "metadata": {},
   "outputs": [],
   "source": [
    "#END"
   ]
  }
 ],
 "metadata": {
  "kernelspec": {
   "display_name": "Python 3 (ipykernel)",
   "language": "python",
   "name": "python3"
  },
  "language_info": {
   "codemirror_mode": {
    "name": "ipython",
    "version": 3
   },
   "file_extension": ".py",
   "mimetype": "text/x-python",
   "name": "python",
   "nbconvert_exporter": "python",
   "pygments_lexer": "ipython3",
   "version": "3.9.13"
  }
 },
 "nbformat": 4,
 "nbformat_minor": 5
}
