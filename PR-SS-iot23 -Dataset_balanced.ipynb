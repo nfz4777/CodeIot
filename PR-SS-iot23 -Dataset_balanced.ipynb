{
 "cells": [
  {
   "cell_type": "code",
   "execution_count": 1,
   "id": "4696d40a",
   "metadata": {},
   "outputs": [
    {
     "name": "stderr",
     "output_type": "stream",
     "text": [
      "C:\\ProgramData\\Anaconda3\\lib\\site-packages\\scipy\\__init__.py:155: UserWarning: A NumPy version >=1.18.5 and <1.25.0 is required for this version of SciPy (detected version 1.25.2\n",
      "  warnings.warn(f\"A NumPy version >={np_minversion} and <{np_maxversion}\"\n"
     ]
    }
   ],
   "source": [
    "import pandas as pd\n",
    "import numpy as np\n",
    "import tensorflow as tf\n",
    "from matplotlib import pyplot\n",
    "from tensorflow.keras import Model\n",
    "from tensorflow.keras import Sequential\n",
    "from tensorflow.keras.models import Sequential, Model\n",
    "from tensorflow.keras.layers import Conv2D, Input, Dropout, Activation, Dense, MaxPooling2D, Flatten, GlobalAveragePooling2D\n",
    "from tensorflow.keras.optimizers import Adadelta\n",
    "from tensorflow.keras.callbacks import ModelCheckpoint\n",
    "from tensorflow.keras.layers import Dense\n",
    "from tensorflow.keras.layers import LSTM\n",
    "import sklearn\n",
    "from sklearn.metrics import classification_report\n",
    "from sklearn.preprocessing import MinMaxScaler\n",
    "import pandas as pd\n",
    "import matplotlib.pyplot as plt\n",
    "import seaborn as sns\n",
    "import itertools\n",
    "import random\n",
    "import numpy as np\n",
    "import keras\n",
    "from sklearn.manifold import TSNE\n",
    "# processing imports\n",
    "from sklearn import preprocessing\n",
    "from sklearn.preprocessing import LabelEncoder\n",
    "from sklearn.model_selection import train_test_split,StratifiedKFold,GridSearchCV\n",
    "from sklearn.model_selection import GridSearchCV,RandomizedSearchCV\n",
    "from sklearn.model_selection import cross_val_score\n",
    "from sklearn.metrics import mean_absolute_error\n",
    "from sklearn.metrics import accuracy_score\n",
    "from sklearn.metrics import confusion_matrix\n",
    "\n",
    "from joblib import dump, load\n",
    "from sklearn.metrics import accuracy_score, f1_score, precision_score,recall_score\n",
    "from sklearn.linear_model import Perceptron\n",
    "from sklearn.linear_model import LogisticRegression\n",
    "from sklearn.neural_network import MLPClassifier\n",
    "from sklearn.tree import DecisionTreeClassifier\n",
    "from sklearn.ensemble import RandomForestClassifier, VotingClassifier\n",
    "from sklearn.ensemble import BaggingClassifier\n",
    "from sklearn.ensemble import AdaBoostClassifier\n",
    "from sklearn.svm import SVC\n",
    "\n",
    "\n",
    "from sklearn import svm, datasets\n",
    "from sklearn.model_selection import train_test_split\n",
    "from sklearn.metrics import confusion_matrix\n",
    "from sklearn.utils.multiclass import unique_labels\n",
    "from sklearn.metrics import roc_curve, auc\n",
    "from sklearn.model_selection import train_test_split\n",
    "from sklearn.preprocessing import label_binarize\n",
    "from sklearn.multiclass import OneVsRestClassifier\n",
    "from scipy import interp\n",
    "from itertools import cycle\n",
    "import seaborn as sns\n",
    "from sklearn.datasets import make_classification\n",
    "from sklearn.neighbors import KNeighborsClassifier\n",
    "from sklearn.ensemble import RandomForestClassifier\n",
    "from sklearn.model_selection import train_test_split\n",
    "from sklearn.metrics import roc_curve\n",
    "from sklearn.metrics import roc_auc_score\n",
    "import sklearn.metrics as metrics\n",
    "\n",
    "# Input data files are available in the \"../input/\" directory.\n",
    "# For example, running this (by clicking run or pressing Shift+Enter) will list all files under the input directory\n",
    "\n",
    "# Any results you write to the current directory are saved as output."
   ]
  },
  {
   "cell_type": "code",
   "execution_count": 2,
   "id": "b79588a8",
   "metadata": {},
   "outputs": [],
   "source": [
    "df = pd.read_csv('iot23_combined.csv')"
   ]
  },
  {
   "cell_type": "code",
   "execution_count": 3,
   "id": "cda234a1",
   "metadata": {},
   "outputs": [],
   "source": [
    "del df['Unnamed: 0']"
   ]
  },
  {
   "cell_type": "code",
   "execution_count": 4,
   "id": "7fec0e63",
   "metadata": {},
   "outputs": [
    {
     "data": {
      "text/html": [
       "<div>\n",
       "<style scoped>\n",
       "    .dataframe tbody tr th:only-of-type {\n",
       "        vertical-align: middle;\n",
       "    }\n",
       "\n",
       "    .dataframe tbody tr th {\n",
       "        vertical-align: top;\n",
       "    }\n",
       "\n",
       "    .dataframe thead th {\n",
       "        text-align: right;\n",
       "    }\n",
       "</style>\n",
       "<table border=\"1\" class=\"dataframe\">\n",
       "  <thead>\n",
       "    <tr style=\"text-align: right;\">\n",
       "      <th></th>\n",
       "      <th>duration</th>\n",
       "      <th>orig_bytes</th>\n",
       "      <th>resp_bytes</th>\n",
       "      <th>missed_bytes</th>\n",
       "      <th>orig_pkts</th>\n",
       "      <th>orig_ip_bytes</th>\n",
       "      <th>resp_pkts</th>\n",
       "      <th>resp_ip_bytes</th>\n",
       "      <th>label</th>\n",
       "      <th>proto_icmp</th>\n",
       "      <th>...</th>\n",
       "      <th>conn_state_RSTOS0</th>\n",
       "      <th>conn_state_RSTR</th>\n",
       "      <th>conn_state_RSTRH</th>\n",
       "      <th>conn_state_S0</th>\n",
       "      <th>conn_state_S1</th>\n",
       "      <th>conn_state_S2</th>\n",
       "      <th>conn_state_S3</th>\n",
       "      <th>conn_state_SF</th>\n",
       "      <th>conn_state_SH</th>\n",
       "      <th>conn_state_SHR</th>\n",
       "    </tr>\n",
       "  </thead>\n",
       "  <tbody>\n",
       "    <tr>\n",
       "      <th>0</th>\n",
       "      <td>2.998796</td>\n",
       "      <td>0</td>\n",
       "      <td>0</td>\n",
       "      <td>0.0</td>\n",
       "      <td>3.0</td>\n",
       "      <td>180.0</td>\n",
       "      <td>0.0</td>\n",
       "      <td>0.0</td>\n",
       "      <td>1</td>\n",
       "      <td>0</td>\n",
       "      <td>...</td>\n",
       "      <td>0</td>\n",
       "      <td>0</td>\n",
       "      <td>0</td>\n",
       "      <td>1</td>\n",
       "      <td>0</td>\n",
       "      <td>0</td>\n",
       "      <td>0</td>\n",
       "      <td>0</td>\n",
       "      <td>0</td>\n",
       "      <td>0</td>\n",
       "    </tr>\n",
       "    <tr>\n",
       "      <th>1</th>\n",
       "      <td>0.000000</td>\n",
       "      <td>0</td>\n",
       "      <td>0</td>\n",
       "      <td>0.0</td>\n",
       "      <td>1.0</td>\n",
       "      <td>60.0</td>\n",
       "      <td>0.0</td>\n",
       "      <td>0.0</td>\n",
       "      <td>1</td>\n",
       "      <td>0</td>\n",
       "      <td>...</td>\n",
       "      <td>0</td>\n",
       "      <td>0</td>\n",
       "      <td>0</td>\n",
       "      <td>1</td>\n",
       "      <td>0</td>\n",
       "      <td>0</td>\n",
       "      <td>0</td>\n",
       "      <td>0</td>\n",
       "      <td>0</td>\n",
       "      <td>0</td>\n",
       "    </tr>\n",
       "    <tr>\n",
       "      <th>2</th>\n",
       "      <td>0.000000</td>\n",
       "      <td>0</td>\n",
       "      <td>0</td>\n",
       "      <td>0.0</td>\n",
       "      <td>1.0</td>\n",
       "      <td>60.0</td>\n",
       "      <td>0.0</td>\n",
       "      <td>0.0</td>\n",
       "      <td>1</td>\n",
       "      <td>0</td>\n",
       "      <td>...</td>\n",
       "      <td>0</td>\n",
       "      <td>0</td>\n",
       "      <td>0</td>\n",
       "      <td>1</td>\n",
       "      <td>0</td>\n",
       "      <td>0</td>\n",
       "      <td>0</td>\n",
       "      <td>0</td>\n",
       "      <td>0</td>\n",
       "      <td>0</td>\n",
       "    </tr>\n",
       "    <tr>\n",
       "      <th>3</th>\n",
       "      <td>2.998804</td>\n",
       "      <td>0</td>\n",
       "      <td>0</td>\n",
       "      <td>0.0</td>\n",
       "      <td>3.0</td>\n",
       "      <td>180.0</td>\n",
       "      <td>0.0</td>\n",
       "      <td>0.0</td>\n",
       "      <td>0</td>\n",
       "      <td>0</td>\n",
       "      <td>...</td>\n",
       "      <td>0</td>\n",
       "      <td>0</td>\n",
       "      <td>0</td>\n",
       "      <td>1</td>\n",
       "      <td>0</td>\n",
       "      <td>0</td>\n",
       "      <td>0</td>\n",
       "      <td>0</td>\n",
       "      <td>0</td>\n",
       "      <td>0</td>\n",
       "    </tr>\n",
       "    <tr>\n",
       "      <th>4</th>\n",
       "      <td>0.000000</td>\n",
       "      <td>0</td>\n",
       "      <td>0</td>\n",
       "      <td>0.0</td>\n",
       "      <td>1.0</td>\n",
       "      <td>60.0</td>\n",
       "      <td>0.0</td>\n",
       "      <td>0.0</td>\n",
       "      <td>0</td>\n",
       "      <td>0</td>\n",
       "      <td>...</td>\n",
       "      <td>0</td>\n",
       "      <td>0</td>\n",
       "      <td>0</td>\n",
       "      <td>1</td>\n",
       "      <td>0</td>\n",
       "      <td>0</td>\n",
       "      <td>0</td>\n",
       "      <td>0</td>\n",
       "      <td>0</td>\n",
       "      <td>0</td>\n",
       "    </tr>\n",
       "  </tbody>\n",
       "</table>\n",
       "<p>5 rows × 25 columns</p>\n",
       "</div>"
      ],
      "text/plain": [
       "   duration  orig_bytes  resp_bytes  missed_bytes  orig_pkts  orig_ip_bytes  \\\n",
       "0  2.998796           0           0           0.0        3.0          180.0   \n",
       "1  0.000000           0           0           0.0        1.0           60.0   \n",
       "2  0.000000           0           0           0.0        1.0           60.0   \n",
       "3  2.998804           0           0           0.0        3.0          180.0   \n",
       "4  0.000000           0           0           0.0        1.0           60.0   \n",
       "\n",
       "   resp_pkts  resp_ip_bytes  label  proto_icmp  ...  conn_state_RSTOS0  \\\n",
       "0        0.0            0.0      1           0  ...                  0   \n",
       "1        0.0            0.0      1           0  ...                  0   \n",
       "2        0.0            0.0      1           0  ...                  0   \n",
       "3        0.0            0.0      0           0  ...                  0   \n",
       "4        0.0            0.0      0           0  ...                  0   \n",
       "\n",
       "   conn_state_RSTR  conn_state_RSTRH  conn_state_S0  conn_state_S1  \\\n",
       "0                0                 0              1              0   \n",
       "1                0                 0              1              0   \n",
       "2                0                 0              1              0   \n",
       "3                0                 0              1              0   \n",
       "4                0                 0              1              0   \n",
       "\n",
       "   conn_state_S2  conn_state_S3  conn_state_SF  conn_state_SH  conn_state_SHR  \n",
       "0              0              0              0              0               0  \n",
       "1              0              0              0              0               0  \n",
       "2              0              0              0              0               0  \n",
       "3              0              0              0              0               0  \n",
       "4              0              0              0              0               0  \n",
       "\n",
       "[5 rows x 25 columns]"
      ]
     },
     "execution_count": 4,
     "metadata": {},
     "output_type": "execute_result"
    }
   ],
   "source": [
    "binary_attack = df.label.map(lambda a: 0 if a == 'Benign' else 1)\n",
    "\n",
    "\n",
    "df['label'] = binary_attack\n",
    "\n",
    "\n",
    "# view the result\n",
    "df.head()"
   ]
  },
  {
   "cell_type": "code",
   "execution_count": 5,
   "id": "29f264ed",
   "metadata": {},
   "outputs": [
    {
     "data": {
      "text/plain": [
       "1    1246865\n",
       "0     197809\n",
       "Name: label, dtype: int64"
      ]
     },
     "execution_count": 5,
     "metadata": {},
     "output_type": "execute_result"
    }
   ],
   "source": [
    "df['label'].value_counts()"
   ]
  },
  {
   "cell_type": "code",
   "execution_count": 6,
   "id": "0956b57c",
   "metadata": {},
   "outputs": [
    {
     "data": {
      "text/plain": [
       "<AxesSubplot:xlabel='label', ylabel='count'>"
      ]
     },
     "execution_count": 6,
     "metadata": {},
     "output_type": "execute_result"
    },
    {
     "data": {
      "image/png": "[encoded data removed]",
      "text/plain": [
       "<Figure size 640x480 with 1 Axes>"
      ]
     },
     "metadata": {},
     "output_type": "display_data"
    }
   ],
   "source": [
    "sns.countplot(x='label', data=df, palette='Set2')"
   ]
  },
  {
   "cell_type": "code",
   "execution_count": 6,
   "id": "39863daa",
   "metadata": {},
   "outputs": [
    {
     "data": {
      "text/plain": [
       "0.0        1444620\n",
       "2896.0          12\n",
       "1448.0          10\n",
       "5792.0           6\n",
       "10136.0          5\n",
       "4344.0           3\n",
       "7240.0           2\n",
       "13032.0          2\n",
       "2920.0           2\n",
       "2472.0           2\n",
       "1460.0           1\n",
       "1579.0           1\n",
       "5390.0           1\n",
       "4500.0           1\n",
       "15928.0          1\n",
       "1582.0           1\n",
       "20272.0          1\n",
       "8688.0           1\n",
       "17376.0          1\n",
       "11584.0          1\n",
       "Name: missed_bytes, dtype: int64"
      ]
     },
     "execution_count": 6,
     "metadata": {},
     "output_type": "execute_result"
    }
   ],
   "source": [
    "df['missed_bytes'].value_counts()"
   ]
  },
  {
   "cell_type": "code",
   "execution_count": 7,
   "id": "64b6ec8b",
   "metadata": {},
   "outputs": [
    {
     "data": {
      "text/plain": [
       "0    1444521\n",
       "1        153\n",
       "Name: conn_state_RSTO, dtype: int64"
      ]
     },
     "execution_count": 7,
     "metadata": {},
     "output_type": "execute_result"
    }
   ],
   "source": [
    "df['conn_state_RSTO'].value_counts()"
   ]
  },
  {
   "cell_type": "code",
   "execution_count": 8,
   "id": "4d99959e",
   "metadata": {},
   "outputs": [
    {
     "data": {
      "text/plain": [
       "0    1444644\n",
       "1         30\n",
       "Name: conn_state_RSTOS0, dtype: int64"
      ]
     },
     "execution_count": 8,
     "metadata": {},
     "output_type": "execute_result"
    }
   ],
   "source": [
    "df['conn_state_RSTOS0'].value_counts()"
   ]
  },
  {
   "cell_type": "code",
   "execution_count": 9,
   "id": "da7f543b",
   "metadata": {},
   "outputs": [
    {
     "data": {
      "text/plain": [
       "0    1444123\n",
       "1        551\n",
       "Name: conn_state_RSTR, dtype: int64"
      ]
     },
     "execution_count": 9,
     "metadata": {},
     "output_type": "execute_result"
    }
   ],
   "source": [
    "df['conn_state_RSTR'].value_counts()"
   ]
  },
  {
   "cell_type": "code",
   "execution_count": 10,
   "id": "eab06ad7",
   "metadata": {},
   "outputs": [
    {
     "data": {
      "text/plain": [
       "0    1444647\n",
       "1         27\n",
       "Name: conn_state_S2, dtype: int64"
      ]
     },
     "execution_count": 10,
     "metadata": {},
     "output_type": "execute_result"
    }
   ],
   "source": [
    "df['conn_state_S2'].value_counts()"
   ]
  },
  {
   "cell_type": "code",
   "execution_count": 11,
   "id": "9f8d6976",
   "metadata": {},
   "outputs": [
    {
     "data": {
      "text/plain": [
       "0    1442217\n",
       "1       2457\n",
       "Name: conn_state_S3, dtype: int64"
      ]
     },
     "execution_count": 11,
     "metadata": {},
     "output_type": "execute_result"
    }
   ],
   "source": [
    "df['conn_state_S3'].value_counts()"
   ]
  },
  {
   "cell_type": "markdown",
   "id": "7d417bf2",
   "metadata": {},
   "source": [
    "Exceessive A single value dominated columns are dropped"
   ]
  },
  {
   "cell_type": "code",
   "execution_count": 7,
   "id": "fb9e3e56",
   "metadata": {},
   "outputs": [],
   "source": [
    "df.drop('missed_bytes',axis = 1,inplace = True)\n",
    "df.drop('conn_state_RSTO',axis = 1,inplace = True)\n",
    "df.drop('conn_state_RSTOS0',axis = 1,inplace = True)\n",
    "df.drop('conn_state_RSTR',axis = 1,inplace = True)\n",
    "df.drop('conn_state_RSTRH',axis = 1,inplace = True)\n",
    "df.drop('conn_state_S2',axis = 1,inplace = True)\n",
    "df.drop('conn_state_S3',axis = 1,inplace = True)\n",
    "df.drop('conn_state_SF',axis = 1,inplace = True)\n",
    "df.drop('conn_state_SH',axis = 1,inplace = True)\n",
    "df.drop('conn_state_SHR',axis = 1,inplace = True)"
   ]
  },
  {
   "cell_type": "code",
   "execution_count": 12,
   "id": "4e21f2b4",
   "metadata": {},
   "outputs": [
    {
     "data": {
      "text/plain": [
       "0    1327304\n",
       "1     117370\n",
       "Name: conn_state_OTH, dtype: int64"
      ]
     },
     "execution_count": 12,
     "metadata": {},
     "output_type": "execute_result"
    }
   ],
   "source": [
    "df['conn_state_OTH'].value_counts()"
   ]
  },
  {
   "cell_type": "code",
   "execution_count": 13,
   "id": "f8110552",
   "metadata": {},
   "outputs": [
    {
     "data": {
      "text/plain": [
       "1    1305208\n",
       "0     139466\n",
       "Name: conn_state_S0, dtype: int64"
      ]
     },
     "execution_count": 13,
     "metadata": {},
     "output_type": "execute_result"
    }
   ],
   "source": [
    "df['conn_state_S0'].value_counts()"
   ]
  },
  {
   "cell_type": "code",
   "execution_count": 8,
   "id": "0f66bca7",
   "metadata": {},
   "outputs": [
    {
     "name": "stdout",
     "output_type": "stream",
     "text": [
      "<class 'pandas.core.frame.DataFrame'>\n",
      "RangeIndex: 1444674 entries, 0 to 1444673\n",
      "Data columns (total 15 columns):\n",
      " #   Column          Non-Null Count    Dtype  \n",
      "---  ------          --------------    -----  \n",
      " 0   duration        1444674 non-null  float64\n",
      " 1   orig_bytes      1444674 non-null  int64  \n",
      " 2   resp_bytes      1444674 non-null  int64  \n",
      " 3   orig_pkts       1444674 non-null  float64\n",
      " 4   orig_ip_bytes   1444674 non-null  float64\n",
      " 5   resp_pkts       1444674 non-null  float64\n",
      " 6   resp_ip_bytes   1444674 non-null  float64\n",
      " 7   label           1444674 non-null  int64  \n",
      " 8   proto_icmp      1444674 non-null  int64  \n",
      " 9   proto_tcp       1444674 non-null  int64  \n",
      " 10  proto_udp       1444674 non-null  int64  \n",
      " 11  conn_state_OTH  1444674 non-null  int64  \n",
      " 12  conn_state_REJ  1444674 non-null  int64  \n",
      " 13  conn_state_S0   1444674 non-null  int64  \n",
      " 14  conn_state_S1   1444674 non-null  int64  \n",
      "dtypes: float64(5), int64(10)\n",
      "memory usage: 165.3 MB\n"
     ]
    }
   ],
   "source": [
    "df.info()"
   ]
  },
  {
   "cell_type": "code",
   "execution_count": 285,
   "id": "8b68b0b3",
   "metadata": {},
   "outputs": [
    {
     "data": {
      "text/html": [
       "<div>\n",
       "<style scoped>\n",
       "    .dataframe tbody tr th:only-of-type {\n",
       "        vertical-align: middle;\n",
       "    }\n",
       "\n",
       "    .dataframe tbody tr th {\n",
       "        vertical-align: top;\n",
       "    }\n",
       "\n",
       "    .dataframe thead th {\n",
       "        text-align: right;\n",
       "    }\n",
       "</style>\n",
       "<table border=\"1\" class=\"dataframe\">\n",
       "  <thead>\n",
       "    <tr style=\"text-align: right;\">\n",
       "      <th></th>\n",
       "      <th>duration</th>\n",
       "      <th>orig_bytes</th>\n",
       "      <th>resp_bytes</th>\n",
       "      <th>orig_pkts</th>\n",
       "      <th>orig_ip_bytes</th>\n",
       "      <th>resp_pkts</th>\n",
       "      <th>resp_ip_bytes</th>\n",
       "      <th>label</th>\n",
       "      <th>proto_icmp</th>\n",
       "      <th>proto_tcp</th>\n",
       "      <th>proto_udp</th>\n",
       "      <th>conn_state_OTH</th>\n",
       "      <th>conn_state_REJ</th>\n",
       "      <th>conn_state_S0</th>\n",
       "      <th>conn_state_S1</th>\n",
       "    </tr>\n",
       "  </thead>\n",
       "  <tbody>\n",
       "    <tr>\n",
       "      <th>count</th>\n",
       "      <td>1.444674e+06</td>\n",
       "      <td>1.444674e+06</td>\n",
       "      <td>1.444674e+06</td>\n",
       "      <td>1.444674e+06</td>\n",
       "      <td>1.444674e+06</td>\n",
       "      <td>1.444674e+06</td>\n",
       "      <td>1.444674e+06</td>\n",
       "      <td>1.444674e+06</td>\n",
       "      <td>1.444674e+06</td>\n",
       "      <td>1.444674e+06</td>\n",
       "      <td>1.444674e+06</td>\n",
       "      <td>1.444674e+06</td>\n",
       "      <td>1.444674e+06</td>\n",
       "      <td>1.444674e+06</td>\n",
       "      <td>1.444674e+06</td>\n",
       "    </tr>\n",
       "    <tr>\n",
       "      <th>mean</th>\n",
       "      <td>3.060814e-01</td>\n",
       "      <td>2.725242e+03</td>\n",
       "      <td>1.801278e+01</td>\n",
       "      <td>1.780510e+02</td>\n",
       "      <td>7.745525e+03</td>\n",
       "      <td>1.257785e-01</td>\n",
       "      <td>2.846040e+01</td>\n",
       "      <td>8.630771e-01</td>\n",
       "      <td>2.527214e-03</td>\n",
       "      <td>9.603558e-01</td>\n",
       "      <td>3.711702e-02</td>\n",
       "      <td>8.124324e-02</td>\n",
       "      <td>1.881393e-03</td>\n",
       "      <td>9.034620e-01</td>\n",
       "      <td>3.322549e-05</td>\n",
       "    </tr>\n",
       "    <tr>\n",
       "      <th>std</th>\n",
       "      <td>8.568446e+01</td>\n",
       "      <td>1.714763e+06</td>\n",
       "      <td>9.726978e+03</td>\n",
       "      <td>7.230421e+04</td>\n",
       "      <td>2.849409e+06</td>\n",
       "      <td>1.547444e+01</td>\n",
       "      <td>1.014930e+04</td>\n",
       "      <td>3.437661e-01</td>\n",
       "      <td>5.020785e-02</td>\n",
       "      <td>1.951220e-01</td>\n",
       "      <td>1.890486e-01</td>\n",
       "      <td>2.732084e-01</td>\n",
       "      <td>4.333422e-02</td>\n",
       "      <td>2.953278e-01</td>\n",
       "      <td>5.764062e-03</td>\n",
       "    </tr>\n",
       "    <tr>\n",
       "      <th>min</th>\n",
       "      <td>-1.000000e+00</td>\n",
       "      <td>-1.000000e+00</td>\n",
       "      <td>-1.000000e+00</td>\n",
       "      <td>0.000000e+00</td>\n",
       "      <td>0.000000e+00</td>\n",
       "      <td>0.000000e+00</td>\n",
       "      <td>0.000000e+00</td>\n",
       "      <td>0.000000e+00</td>\n",
       "      <td>0.000000e+00</td>\n",
       "      <td>0.000000e+00</td>\n",
       "      <td>0.000000e+00</td>\n",
       "      <td>0.000000e+00</td>\n",
       "      <td>0.000000e+00</td>\n",
       "      <td>0.000000e+00</td>\n",
       "      <td>0.000000e+00</td>\n",
       "    </tr>\n",
       "    <tr>\n",
       "      <th>25%</th>\n",
       "      <td>-1.000000e+00</td>\n",
       "      <td>-1.000000e+00</td>\n",
       "      <td>-1.000000e+00</td>\n",
       "      <td>1.000000e+00</td>\n",
       "      <td>4.000000e+01</td>\n",
       "      <td>0.000000e+00</td>\n",
       "      <td>0.000000e+00</td>\n",
       "      <td>1.000000e+00</td>\n",
       "      <td>0.000000e+00</td>\n",
       "      <td>1.000000e+00</td>\n",
       "      <td>0.000000e+00</td>\n",
       "      <td>0.000000e+00</td>\n",
       "      <td>0.000000e+00</td>\n",
       "      <td>1.000000e+00</td>\n",
       "      <td>0.000000e+00</td>\n",
       "    </tr>\n",
       "    <tr>\n",
       "      <th>50%</th>\n",
       "      <td>0.000000e+00</td>\n",
       "      <td>0.000000e+00</td>\n",
       "      <td>0.000000e+00</td>\n",
       "      <td>1.000000e+00</td>\n",
       "      <td>4.000000e+01</td>\n",
       "      <td>0.000000e+00</td>\n",
       "      <td>0.000000e+00</td>\n",
       "      <td>1.000000e+00</td>\n",
       "      <td>0.000000e+00</td>\n",
       "      <td>1.000000e+00</td>\n",
       "      <td>0.000000e+00</td>\n",
       "      <td>0.000000e+00</td>\n",
       "      <td>0.000000e+00</td>\n",
       "      <td>1.000000e+00</td>\n",
       "      <td>0.000000e+00</td>\n",
       "    </tr>\n",
       "    <tr>\n",
       "      <th>75%</th>\n",
       "      <td>0.000000e+00</td>\n",
       "      <td>0.000000e+00</td>\n",
       "      <td>0.000000e+00</td>\n",
       "      <td>2.000000e+00</td>\n",
       "      <td>8.000000e+01</td>\n",
       "      <td>0.000000e+00</td>\n",
       "      <td>0.000000e+00</td>\n",
       "      <td>1.000000e+00</td>\n",
       "      <td>0.000000e+00</td>\n",
       "      <td>1.000000e+00</td>\n",
       "      <td>0.000000e+00</td>\n",
       "      <td>0.000000e+00</td>\n",
       "      <td>0.000000e+00</td>\n",
       "      <td>1.000000e+00</td>\n",
       "      <td>0.000000e+00</td>\n",
       "    </tr>\n",
       "    <tr>\n",
       "      <th>max</th>\n",
       "      <td>4.897682e+04</td>\n",
       "      <td>1.744830e+09</td>\n",
       "      <td>1.166102e+07</td>\n",
       "      <td>6.602735e+07</td>\n",
       "      <td>1.914793e+09</td>\n",
       "      <td>9.307000e+03</td>\n",
       "      <td>1.207699e+07</td>\n",
       "      <td>1.000000e+00</td>\n",
       "      <td>1.000000e+00</td>\n",
       "      <td>1.000000e+00</td>\n",
       "      <td>1.000000e+00</td>\n",
       "      <td>1.000000e+00</td>\n",
       "      <td>1.000000e+00</td>\n",
       "      <td>1.000000e+00</td>\n",
       "      <td>1.000000e+00</td>\n",
       "    </tr>\n",
       "  </tbody>\n",
       "</table>\n",
       "</div>"
      ],
      "text/plain": [
       "           duration    orig_bytes    resp_bytes     orig_pkts  orig_ip_bytes  \\\n",
       "count  1.444674e+06  1.444674e+06  1.444674e+06  1.444674e+06   1.444674e+06   \n",
       "mean   3.060814e-01  2.725242e+03  1.801278e+01  1.780510e+02   7.745525e+03   \n",
       "std    8.568446e+01  1.714763e+06  9.726978e+03  7.230421e+04   2.849409e+06   \n",
       "min   -1.000000e+00 -1.000000e+00 -1.000000e+00  0.000000e+00   0.000000e+00   \n",
       "25%   -1.000000e+00 -1.000000e+00 -1.000000e+00  1.000000e+00   4.000000e+01   \n",
       "50%    0.000000e+00  0.000000e+00  0.000000e+00  1.000000e+00   4.000000e+01   \n",
       "75%    0.000000e+00  0.000000e+00  0.000000e+00  2.000000e+00   8.000000e+01   \n",
       "max    4.897682e+04  1.744830e+09  1.166102e+07  6.602735e+07   1.914793e+09   \n",
       "\n",
       "          resp_pkts  resp_ip_bytes         label    proto_icmp     proto_tcp  \\\n",
       "count  1.444674e+06   1.444674e+06  1.444674e+06  1.444674e+06  1.444674e+06   \n",
       "mean   1.257785e-01   2.846040e+01  8.630771e-01  2.527214e-03  9.603558e-01   \n",
       "std    1.547444e+01   1.014930e+04  3.437661e-01  5.020785e-02  1.951220e-01   \n",
       "min    0.000000e+00   0.000000e+00  0.000000e+00  0.000000e+00  0.000000e+00   \n",
       "25%    0.000000e+00   0.000000e+00  1.000000e+00  0.000000e+00  1.000000e+00   \n",
       "50%    0.000000e+00   0.000000e+00  1.000000e+00  0.000000e+00  1.000000e+00   \n",
       "75%    0.000000e+00   0.000000e+00  1.000000e+00  0.000000e+00  1.000000e+00   \n",
       "max    9.307000e+03   1.207699e+07  1.000000e+00  1.000000e+00  1.000000e+00   \n",
       "\n",
       "          proto_udp  conn_state_OTH  conn_state_REJ  conn_state_S0  \\\n",
       "count  1.444674e+06    1.444674e+06    1.444674e+06   1.444674e+06   \n",
       "mean   3.711702e-02    8.124324e-02    1.881393e-03   9.034620e-01   \n",
       "std    1.890486e-01    2.732084e-01    4.333422e-02   2.953278e-01   \n",
       "min    0.000000e+00    0.000000e+00    0.000000e+00   0.000000e+00   \n",
       "25%    0.000000e+00    0.000000e+00    0.000000e+00   1.000000e+00   \n",
       "50%    0.000000e+00    0.000000e+00    0.000000e+00   1.000000e+00   \n",
       "75%    0.000000e+00    0.000000e+00    0.000000e+00   1.000000e+00   \n",
       "max    1.000000e+00    1.000000e+00    1.000000e+00   1.000000e+00   \n",
       "\n",
       "       conn_state_S1  \n",
       "count   1.444674e+06  \n",
       "mean    3.322549e-05  \n",
       "std     5.764062e-03  \n",
       "min     0.000000e+00  \n",
       "25%     0.000000e+00  \n",
       "50%     0.000000e+00  \n",
       "75%     0.000000e+00  \n",
       "max     1.000000e+00  "
      ]
     },
     "execution_count": 285,
     "metadata": {},
     "output_type": "execute_result"
    }
   ],
   "source": [
    "df.describe()"
   ]
  },
  {
   "cell_type": "code",
   "execution_count": 9,
   "id": "3beb51ba",
   "metadata": {},
   "outputs": [
    {
     "data": {
      "text/plain": [
       "duration          8.568446e+01\n",
       "orig_bytes        1.714763e+06\n",
       "resp_bytes        9.726978e+03\n",
       "orig_pkts         7.230421e+04\n",
       "orig_ip_bytes     2.849409e+06\n",
       "resp_pkts         1.547444e+01\n",
       "resp_ip_bytes     1.014930e+04\n",
       "label             3.437661e-01\n",
       "proto_icmp        5.020785e-02\n",
       "proto_tcp         1.951220e-01\n",
       "proto_udp         1.890486e-01\n",
       "conn_state_OTH    2.732084e-01\n",
       "conn_state_REJ    4.333422e-02\n",
       "conn_state_S0     2.953278e-01\n",
       "conn_state_S1     5.764062e-03\n",
       "dtype: float64"
      ]
     },
     "execution_count": 9,
     "metadata": {},
     "output_type": "execute_result"
    }
   ],
   "source": [
    "df.std()"
   ]
  },
  {
   "cell_type": "code",
   "execution_count": 10,
   "id": "05d65d18",
   "metadata": {},
   "outputs": [
    {
     "data": {
      "text/html": [
       "<div>\n",
       "<style scoped>\n",
       "    .dataframe tbody tr th:only-of-type {\n",
       "        vertical-align: middle;\n",
       "    }\n",
       "\n",
       "    .dataframe tbody tr th {\n",
       "        vertical-align: top;\n",
       "    }\n",
       "\n",
       "    .dataframe thead th {\n",
       "        text-align: right;\n",
       "    }\n",
       "</style>\n",
       "<table border=\"1\" class=\"dataframe\">\n",
       "  <thead>\n",
       "    <tr style=\"text-align: right;\">\n",
       "      <th></th>\n",
       "      <th>duration</th>\n",
       "      <th>orig_bytes</th>\n",
       "      <th>resp_bytes</th>\n",
       "      <th>orig_pkts</th>\n",
       "      <th>orig_ip_bytes</th>\n",
       "    </tr>\n",
       "  </thead>\n",
       "  <tbody>\n",
       "    <tr>\n",
       "      <th>count</th>\n",
       "      <td>1.444674e+06</td>\n",
       "      <td>1.444674e+06</td>\n",
       "      <td>1.444674e+06</td>\n",
       "      <td>1.444674e+06</td>\n",
       "      <td>1.444674e+06</td>\n",
       "    </tr>\n",
       "    <tr>\n",
       "      <th>mean</th>\n",
       "      <td>3.060814e-01</td>\n",
       "      <td>2.725242e+03</td>\n",
       "      <td>1.801278e+01</td>\n",
       "      <td>1.780510e+02</td>\n",
       "      <td>7.745525e+03</td>\n",
       "    </tr>\n",
       "    <tr>\n",
       "      <th>std</th>\n",
       "      <td>8.568446e+01</td>\n",
       "      <td>1.714763e+06</td>\n",
       "      <td>9.726978e+03</td>\n",
       "      <td>7.230421e+04</td>\n",
       "      <td>2.849409e+06</td>\n",
       "    </tr>\n",
       "    <tr>\n",
       "      <th>min</th>\n",
       "      <td>-1.000000e+00</td>\n",
       "      <td>-1.000000e+00</td>\n",
       "      <td>-1.000000e+00</td>\n",
       "      <td>0.000000e+00</td>\n",
       "      <td>0.000000e+00</td>\n",
       "    </tr>\n",
       "    <tr>\n",
       "      <th>25%</th>\n",
       "      <td>-1.000000e+00</td>\n",
       "      <td>-1.000000e+00</td>\n",
       "      <td>-1.000000e+00</td>\n",
       "      <td>1.000000e+00</td>\n",
       "      <td>4.000000e+01</td>\n",
       "    </tr>\n",
       "    <tr>\n",
       "      <th>50%</th>\n",
       "      <td>0.000000e+00</td>\n",
       "      <td>0.000000e+00</td>\n",
       "      <td>0.000000e+00</td>\n",
       "      <td>1.000000e+00</td>\n",
       "      <td>4.000000e+01</td>\n",
       "    </tr>\n",
       "    <tr>\n",
       "      <th>75%</th>\n",
       "      <td>0.000000e+00</td>\n",
       "      <td>0.000000e+00</td>\n",
       "      <td>0.000000e+00</td>\n",
       "      <td>2.000000e+00</td>\n",
       "      <td>8.000000e+01</td>\n",
       "    </tr>\n",
       "    <tr>\n",
       "      <th>max</th>\n",
       "      <td>4.897682e+04</td>\n",
       "      <td>1.744830e+09</td>\n",
       "      <td>1.166102e+07</td>\n",
       "      <td>6.602735e+07</td>\n",
       "      <td>1.914793e+09</td>\n",
       "    </tr>\n",
       "  </tbody>\n",
       "</table>\n",
       "</div>"
      ],
      "text/plain": [
       "           duration    orig_bytes    resp_bytes     orig_pkts  orig_ip_bytes\n",
       "count  1.444674e+06  1.444674e+06  1.444674e+06  1.444674e+06   1.444674e+06\n",
       "mean   3.060814e-01  2.725242e+03  1.801278e+01  1.780510e+02   7.745525e+03\n",
       "std    8.568446e+01  1.714763e+06  9.726978e+03  7.230421e+04   2.849409e+06\n",
       "min   -1.000000e+00 -1.000000e+00 -1.000000e+00  0.000000e+00   0.000000e+00\n",
       "25%   -1.000000e+00 -1.000000e+00 -1.000000e+00  1.000000e+00   4.000000e+01\n",
       "50%    0.000000e+00  0.000000e+00  0.000000e+00  1.000000e+00   4.000000e+01\n",
       "75%    0.000000e+00  0.000000e+00  0.000000e+00  2.000000e+00   8.000000e+01\n",
       "max    4.897682e+04  1.744830e+09  1.166102e+07  6.602735e+07   1.914793e+09"
      ]
     },
     "execution_count": 10,
     "metadata": {},
     "output_type": "execute_result"
    }
   ],
   "source": [
    "df.iloc[:,0:5].describe()"
   ]
  },
  {
   "cell_type": "code",
   "execution_count": 11,
   "id": "20ec7ed2",
   "metadata": {},
   "outputs": [
    {
     "data": {
      "text/plain": [
       "85.68446"
      ]
     },
     "execution_count": 11,
     "metadata": {},
     "output_type": "execute_result"
    }
   ],
   "source": [
    "8.568446e+01"
   ]
  },
  {
   "cell_type": "code",
   "execution_count": 12,
   "id": "97074d7a",
   "metadata": {},
   "outputs": [
    {
     "data": {
      "text/plain": [
       "(1444674, 15)"
      ]
     },
     "execution_count": 12,
     "metadata": {},
     "output_type": "execute_result"
    }
   ],
   "source": [
    "df.shape"
   ]
  },
  {
   "cell_type": "code",
   "execution_count": 13,
   "id": "3ef80799",
   "metadata": {},
   "outputs": [],
   "source": [
    "df_train,df_test=train_test_split(df, test_size=0.25, random_state=42)"
   ]
  },
  {
   "cell_type": "code",
   "execution_count": 14,
   "id": "be0a79e4",
   "metadata": {},
   "outputs": [
    {
     "data": {
      "text/plain": [
       "(1083505, 15)"
      ]
     },
     "execution_count": 14,
     "metadata": {},
     "output_type": "execute_result"
    }
   ],
   "source": [
    "df_train.shape"
   ]
  },
  {
   "cell_type": "code",
   "execution_count": 15,
   "id": "343da5c7",
   "metadata": {},
   "outputs": [
    {
     "data": {
      "text/plain": [
       "(361169, 15)"
      ]
     },
     "execution_count": 15,
     "metadata": {},
     "output_type": "execute_result"
    }
   ],
   "source": [
    "df_test.shape"
   ]
  },
  {
   "cell_type": "code",
   "execution_count": 16,
   "id": "7ff09a12",
   "metadata": {},
   "outputs": [],
   "source": [
    "x = df_train.drop([\"label\"], axis=1)\n",
    "y = df_train[\"label\"].values"
   ]
  },
  {
   "cell_type": "code",
   "execution_count": 17,
   "id": "796e5977",
   "metadata": {},
   "outputs": [
    {
     "data": {
      "text/plain": [
       "(1083505, 14)"
      ]
     },
     "execution_count": 17,
     "metadata": {},
     "output_type": "execute_result"
    }
   ],
   "source": [
    "x.shape"
   ]
  },
  {
   "cell_type": "code",
   "execution_count": 18,
   "id": "506c22eb",
   "metadata": {},
   "outputs": [],
   "source": [
    "#train_x, test_x, train_y, test_y = train_test_split(x, y, test_size=0.25)"
   ]
  },
  {
   "cell_type": "code",
   "execution_count": 19,
   "id": "ea9b03e7",
   "metadata": {},
   "outputs": [],
   "source": [
    "#train_x.shape"
   ]
  },
  {
   "cell_type": "markdown",
   "id": "8da96083",
   "metadata": {},
   "source": [
    "Deep Neural Network"
   ]
  },
  {
   "cell_type": "code",
   "execution_count": 20,
   "id": "9fd2aaf1",
   "metadata": {},
   "outputs": [
    {
     "name": "stdout",
     "output_type": "stream",
     "text": [
      "Model: \"sequential\"\n",
      "_________________________________________________________________\n",
      " Layer (type)                Output Shape              Param #   \n",
      "=================================================================\n",
      " dense (Dense)               (None, 100)               1500      \n",
      "                                                                 \n",
      " dense_1 (Dense)             (None, 50)                5050      \n",
      "                                                                 \n",
      " dense_2 (Dense)             (None, 40)                2040      \n",
      "                                                                 \n",
      " dense_3 (Dense)             (None, 40)                1640      \n",
      "                                                                 \n",
      " dense_4 (Dense)             (None, 1)                 41        \n",
      "                                                                 \n",
      "=================================================================\n",
      "Total params: 10,271\n",
      "Trainable params: 10,271\n",
      "Non-trainable params: 0\n",
      "_________________________________________________________________\n",
      "Epoch 1/5\n",
      "10836/10836 [==============================] - 13s 1ms/step - loss: 114.1632 - accuracy: 0.8914\n",
      "Epoch 2/5\n",
      "10836/10836 [==============================] - 13s 1ms/step - loss: 1435.6877 - accuracy: 0.8975\n",
      "Epoch 3/5\n",
      "10836/10836 [==============================] - 12s 1ms/step - loss: 598.9883 - accuracy: 0.9012\n",
      "Epoch 4/5\n",
      "10836/10836 [==============================] - 12s 1ms/step - loss: 1499.2803 - accuracy: 0.9045\n",
      "Epoch 5/5\n",
      "10836/10836 [==============================] - 12s 1ms/step - loss: 2651.4211 - accuracy: 0.8930\n"
     ]
    },
    {
     "data": {
      "text/plain": [
       "<keras.callbacks.History at 0x24a80e52400>"
      ]
     },
     "execution_count": 20,
     "metadata": {},
     "output_type": "execute_result"
    }
   ],
   "source": [
    "#Using Neural Networks\n",
    "from tensorflow import keras\n",
    "from tensorflow.keras.models import Sequential\n",
    "from tensorflow.keras.layers import Dense, Dropout\n",
    "from tensorflow.keras.optimizers import Adam\n",
    "\n",
    "model = Sequential()\n",
    "model.add(Dense(100, activation='relu', input_shape=(x.shape[1],)))\n",
    "\n",
    "model.add(Dense(50, activation='relu'))\n",
    "model.add(Dense(40, activation='relu'))\n",
    "model.add(Dense(40, activation='relu'))\n",
    "model.add(Dense(1, activation='sigmoid')) \n",
    "\n",
    "model.compile(loss='binary_crossentropy',\n",
    "              optimizer=Adam(),\n",
    "              metrics=['accuracy'])\n",
    "model.summary()\n",
    "model.fit(x, y,batch_size=100,epochs=5)\n",
    "#model.fit(train_x, train_y,batch_size=100,epochs=5,validation_data=(test_x,test_y))\n"
   ]
  },
  {
   "cell_type": "code",
   "execution_count": 235,
   "id": "998eef23",
   "metadata": {},
   "outputs": [],
   "source": [
    "x_norm= x[y == 0]"
   ]
  },
  {
   "cell_type": "code",
   "execution_count": 236,
   "id": "c5ae62ea",
   "metadata": {},
   "outputs": [
    {
     "data": {
      "text/plain": [
       "(148534, 14)"
      ]
     },
     "execution_count": 236,
     "metadata": {},
     "output_type": "execute_result"
    }
   ],
   "source": [
    "x_norm.shape"
   ]
  },
  {
   "cell_type": "code",
   "execution_count": 237,
   "id": "5f7a2333",
   "metadata": {},
   "outputs": [
    {
     "data": {
      "text/html": [
       "<div>\n",
       "<style scoped>\n",
       "    .dataframe tbody tr th:only-of-type {\n",
       "        vertical-align: middle;\n",
       "    }\n",
       "\n",
       "    .dataframe tbody tr th {\n",
       "        vertical-align: top;\n",
       "    }\n",
       "\n",
       "    .dataframe thead th {\n",
       "        text-align: right;\n",
       "    }\n",
       "</style>\n",
       "<table border=\"1\" class=\"dataframe\">\n",
       "  <thead>\n",
       "    <tr style=\"text-align: right;\">\n",
       "      <th></th>\n",
       "      <th>duration</th>\n",
       "      <th>orig_bytes</th>\n",
       "      <th>resp_bytes</th>\n",
       "      <th>orig_pkts</th>\n",
       "      <th>orig_ip_bytes</th>\n",
       "      <th>resp_pkts</th>\n",
       "      <th>resp_ip_bytes</th>\n",
       "      <th>proto_icmp</th>\n",
       "      <th>proto_tcp</th>\n",
       "      <th>proto_udp</th>\n",
       "      <th>conn_state_OTH</th>\n",
       "      <th>conn_state_REJ</th>\n",
       "      <th>conn_state_S0</th>\n",
       "      <th>conn_state_S1</th>\n",
       "    </tr>\n",
       "  </thead>\n",
       "  <tbody>\n",
       "    <tr>\n",
       "      <th>523144</th>\n",
       "      <td>3.103243</td>\n",
       "      <td>0</td>\n",
       "      <td>0</td>\n",
       "      <td>3.0</td>\n",
       "      <td>180.0</td>\n",
       "      <td>0.0</td>\n",
       "      <td>0.0</td>\n",
       "      <td>0</td>\n",
       "      <td>1</td>\n",
       "      <td>0</td>\n",
       "      <td>0</td>\n",
       "      <td>0</td>\n",
       "      <td>1</td>\n",
       "      <td>0</td>\n",
       "    </tr>\n",
       "    <tr>\n",
       "      <th>463140</th>\n",
       "      <td>0.000000</td>\n",
       "      <td>0</td>\n",
       "      <td>0</td>\n",
       "      <td>1.0</td>\n",
       "      <td>60.0</td>\n",
       "      <td>0.0</td>\n",
       "      <td>0.0</td>\n",
       "      <td>0</td>\n",
       "      <td>1</td>\n",
       "      <td>0</td>\n",
       "      <td>0</td>\n",
       "      <td>0</td>\n",
       "      <td>1</td>\n",
       "      <td>0</td>\n",
       "    </tr>\n",
       "    <tr>\n",
       "      <th>527540</th>\n",
       "      <td>0.000000</td>\n",
       "      <td>0</td>\n",
       "      <td>0</td>\n",
       "      <td>1.0</td>\n",
       "      <td>60.0</td>\n",
       "      <td>0.0</td>\n",
       "      <td>0.0</td>\n",
       "      <td>0</td>\n",
       "      <td>1</td>\n",
       "      <td>0</td>\n",
       "      <td>0</td>\n",
       "      <td>0</td>\n",
       "      <td>1</td>\n",
       "      <td>0</td>\n",
       "    </tr>\n",
       "    <tr>\n",
       "      <th>763709</th>\n",
       "      <td>0.000000</td>\n",
       "      <td>0</td>\n",
       "      <td>0</td>\n",
       "      <td>1.0</td>\n",
       "      <td>40.0</td>\n",
       "      <td>0.0</td>\n",
       "      <td>0.0</td>\n",
       "      <td>0</td>\n",
       "      <td>1</td>\n",
       "      <td>0</td>\n",
       "      <td>0</td>\n",
       "      <td>0</td>\n",
       "      <td>1</td>\n",
       "      <td>0</td>\n",
       "    </tr>\n",
       "    <tr>\n",
       "      <th>441071</th>\n",
       "      <td>0.000000</td>\n",
       "      <td>0</td>\n",
       "      <td>0</td>\n",
       "      <td>1.0</td>\n",
       "      <td>60.0</td>\n",
       "      <td>0.0</td>\n",
       "      <td>0.0</td>\n",
       "      <td>0</td>\n",
       "      <td>1</td>\n",
       "      <td>0</td>\n",
       "      <td>0</td>\n",
       "      <td>0</td>\n",
       "      <td>1</td>\n",
       "      <td>0</td>\n",
       "    </tr>\n",
       "  </tbody>\n",
       "</table>\n",
       "</div>"
      ],
      "text/plain": [
       "        duration  orig_bytes  resp_bytes  orig_pkts  orig_ip_bytes  resp_pkts  \\\n",
       "523144  3.103243           0           0        3.0          180.0        0.0   \n",
       "463140  0.000000           0           0        1.0           60.0        0.0   \n",
       "527540  0.000000           0           0        1.0           60.0        0.0   \n",
       "763709  0.000000           0           0        1.0           40.0        0.0   \n",
       "441071  0.000000           0           0        1.0           60.0        0.0   \n",
       "\n",
       "        resp_ip_bytes  proto_icmp  proto_tcp  proto_udp  conn_state_OTH  \\\n",
       "523144            0.0           0          1          0               0   \n",
       "463140            0.0           0          1          0               0   \n",
       "527540            0.0           0          1          0               0   \n",
       "763709            0.0           0          1          0               0   \n",
       "441071            0.0           0          1          0               0   \n",
       "\n",
       "        conn_state_REJ  conn_state_S0  conn_state_S1  \n",
       "523144               0              1              0  \n",
       "463140               0              1              0  \n",
       "527540               0              1              0  \n",
       "763709               0              1              0  \n",
       "441071               0              1              0  "
      ]
     },
     "execution_count": 237,
     "metadata": {},
     "output_type": "execute_result"
    }
   ],
   "source": [
    "x_norm.head()"
   ]
  },
  {
   "cell_type": "code",
   "execution_count": 238,
   "id": "c56f0176",
   "metadata": {},
   "outputs": [],
   "source": [
    "stds=x_norm.std()"
   ]
  },
  {
   "cell_type": "code",
   "execution_count": 239,
   "id": "1d952dfb",
   "metadata": {},
   "outputs": [
    {
     "data": {
      "text/plain": [
       "pandas.core.series.Series"
      ]
     },
     "execution_count": 239,
     "metadata": {},
     "output_type": "execute_result"
    }
   ],
   "source": [
    "type(stds)"
   ]
  },
  {
   "cell_type": "code",
   "execution_count": 240,
   "id": "d3bd211e",
   "metadata": {},
   "outputs": [
    {
     "data": {
      "text/plain": [
       "duration          7.811515e+01\n",
       "orig_bytes        7.487180e+04\n",
       "resp_bytes        3.027839e+04\n",
       "orig_pkts         3.716726e+04\n",
       "orig_ip_bytes     1.081467e+06\n",
       "resp_pkts         2.097329e+01\n",
       "resp_ip_bytes     3.135858e+04\n",
       "proto_icmp        1.353301e-01\n",
       "proto_tcp         4.535612e-01\n",
       "proto_udp         4.444265e-01\n",
       "conn_state_OTH    1.363318e-01\n",
       "conn_state_REJ    9.317874e-02\n",
       "conn_state_S0     2.857959e-01\n",
       "conn_state_S1     1.397157e-02\n",
       "dtype: float64"
      ]
     },
     "execution_count": 240,
     "metadata": {},
     "output_type": "execute_result"
    }
   ],
   "source": [
    "stds"
   ]
  },
  {
   "cell_type": "code",
   "execution_count": 241,
   "id": "af58fe18",
   "metadata": {},
   "outputs": [],
   "source": [
    "stds=0.1*stds.to_numpy()"
   ]
  },
  {
   "cell_type": "code",
   "execution_count": 242,
   "id": "0274472f",
   "metadata": {},
   "outputs": [
    {
     "data": {
      "text/plain": [
       "array([7.81151539e+00, 7.48717992e+03, 3.02783866e+03, 3.71672610e+03,\n",
       "       1.08146669e+05, 2.09732871e+00, 3.13585761e+03, 1.35330086e-02,\n",
       "       4.53561235e-02, 4.44426540e-02, 1.36331814e-02, 9.31787359e-03,\n",
       "       2.85795943e-02, 1.39715671e-03])"
      ]
     },
     "execution_count": 242,
     "metadata": {},
     "output_type": "execute_result"
    }
   ],
   "source": [
    "stds"
   ]
  },
  {
   "cell_type": "code",
   "execution_count": 243,
   "id": "81ce2683",
   "metadata": {},
   "outputs": [],
   "source": [
    "#stddevs = tf.constant(stds)"
   ]
  },
  {
   "cell_type": "code",
   "execution_count": 244,
   "id": "109b6a88",
   "metadata": {},
   "outputs": [],
   "source": [
    "mns=np.array([0,0,0,0,0,0,0,0,0,0,0,0,0,0])"
   ]
  },
  {
   "cell_type": "code",
   "execution_count": 245,
   "id": "a9e89b48",
   "metadata": {},
   "outputs": [],
   "source": [
    "import random \n",
    "#seed_value = random.randint(1,256)\n",
    "#tf.random.set_seed(seed_value)\n",
    "#random_noise=tf.random.normal(shape = (148534,14), mean=mns, stddev=stds, dtype=tf.float64,  name=None)"
   ]
  },
  {
   "cell_type": "code",
   "execution_count": 246,
   "id": "b4b47394",
   "metadata": {},
   "outputs": [],
   "source": [
    "def random_val():\n",
    "    seed_value = random.randint(1,256)\n",
    "    tf.random.set_seed(seed_value)\n",
    "    random_noise=tf.random.normal(shape = (148534,14), mean=mns, stddev=stds, dtype=tf.float64,  name=None)\n",
    "    return random_noise\n",
    "    "
   ]
  },
  {
   "cell_type": "code",
   "execution_count": 247,
   "id": "469ba206",
   "metadata": {},
   "outputs": [
    {
     "data": {
      "text/plain": [
       "(148534, 14)"
      ]
     },
     "execution_count": 247,
     "metadata": {},
     "output_type": "execute_result"
    }
   ],
   "source": [
    "x_norm1=pd.DataFrame(x_norm)\n",
    "x_norm1.shape"
   ]
  },
  {
   "cell_type": "code",
   "execution_count": 248,
   "id": "15b4faaf",
   "metadata": {},
   "outputs": [
    {
     "name": "stdout",
     "output_type": "stream",
     "text": [
      "4642/4642 [==============================] - 3s 570us/step\n"
     ]
    },
    {
     "data": {
      "text/plain": [
       "0.0    31327\n",
       "Name: label, dtype: int64"
      ]
     },
     "execution_count": 248,
     "metadata": {},
     "output_type": "execute_result"
    }
   ],
   "source": [
    "import random \n",
    "random_data =random_val()\n",
    "random_noise=random_data.numpy()\n",
    "x_norm=pd.DataFrame(x_norm)\n",
    "normal_labeled=x_norm\n",
    "noised_data=normal_labeled+random_noise\n",
    "pseudo_label=model.predict(noised_data)\n",
    "pseudo_labeled_data=pd.DataFrame(noised_data)\n",
    "pseudo_labeled_data['label']=pseudo_label\n",
    "pseudo_labeled_data=pd.DataFrame(pseudo_labeled_data)\n",
    "new_df=pseudo_labeled_data.loc[pseudo_labeled_data['label'] == 0]\n",
    "new_df.shape[0]\n",
    "new_df['label'].value_counts()"
   ]
  },
  {
   "cell_type": "code",
   "execution_count": 249,
   "id": "0d410ce7",
   "metadata": {},
   "outputs": [
    {
     "data": {
      "text/plain": [
       "0.0    31327\n",
       "Name: label, dtype: int64"
      ]
     },
     "execution_count": 249,
     "metadata": {},
     "output_type": "execute_result"
    }
   ],
   "source": [
    "new_df[\"label\"].value_counts()"
   ]
  },
  {
   "cell_type": "code",
   "execution_count": 250,
   "id": "1856d0df",
   "metadata": {},
   "outputs": [
    {
     "name": "stdout",
     "output_type": "stream",
     "text": [
      "4642/4642 [==============================] - 3s 562us/step\n"
     ]
    },
    {
     "data": {
      "text/plain": [
       "31491"
      ]
     },
     "execution_count": 250,
     "metadata": {},
     "output_type": "execute_result"
    }
   ],
   "source": [
    "def norm_data():\n",
    "    random_data =random_val()\n",
    "    random_noise=random_data.numpy()\n",
    "    x_norm1=pd.DataFrame(x_norm)\n",
    "    normal_labeled=x_norm1\n",
    "    noised_data=normal_labeled+random_noise\n",
    "    pseudo_label=model.predict(noised_data)\n",
    "    pseudo_labeled_data=pd.DataFrame(noised_data)\n",
    "    pseudo_labeled_data['label']=pseudo_label\n",
    "    pseudo_df1=pseudo_labeled_data.loc[pseudo_labeled_data['label'] == 0]\n",
    "    return pseudo_df1\n",
    "    \n",
    "pseudo_df2=norm_data() \n",
    "pseudo_df2.shape[0]"
   ]
  },
  {
   "cell_type": "code",
   "execution_count": null,
   "id": "ff8e4587",
   "metadata": {},
   "outputs": [],
   "source": []
  },
  {
   "cell_type": "code",
   "execution_count": 251,
   "id": "147b6f77",
   "metadata": {},
   "outputs": [
    {
     "data": {
      "text/plain": [
       "0.0    31491\n",
       "Name: label, dtype: int64"
      ]
     },
     "execution_count": 251,
     "metadata": {},
     "output_type": "execute_result"
    }
   ],
   "source": [
    "pseudo_df2[\"label\"].value_counts()"
   ]
  },
  {
   "cell_type": "code",
   "execution_count": 252,
   "id": "c26234fe",
   "metadata": {},
   "outputs": [],
   "source": [
    "#combined_data = pd.concat([df_train,pseudo_df2])"
   ]
  },
  {
   "cell_type": "code",
   "execution_count": 253,
   "id": "c53ea5f6",
   "metadata": {},
   "outputs": [],
   "source": [
    "#combined_data['label'].value_counts()"
   ]
  },
  {
   "cell_type": "code",
   "execution_count": null,
   "id": "693237c4",
   "metadata": {},
   "outputs": [],
   "source": []
  },
  {
   "cell_type": "code",
   "execution_count": 254,
   "id": "e02dd299",
   "metadata": {},
   "outputs": [
    {
     "name": "stdout",
     "output_type": "stream",
     "text": [
      "31491\n",
      "4642/4642 [==============================] - 3s 569us/step\n",
      "31310\n",
      "62801\n"
     ]
    },
    {
     "name": "stderr",
     "output_type": "stream",
     "text": [
      "C:\\Users\\12403\\AppData\\Local\\Temp\\ipykernel_23892\\772791319.py:9: FutureWarning: The frame.append method is deprecated and will be removed from pandas in a future version. Use pandas.concat instead.\n",
      "  new_normal_df = new_normal_df.append(pseudo_df3, ignore_index = True)\n"
     ]
    },
    {
     "name": "stdout",
     "output_type": "stream",
     "text": [
      "4642/4642 [==============================] - 3s 574us/step\n",
      "31336\n",
      "94137\n"
     ]
    },
    {
     "name": "stderr",
     "output_type": "stream",
     "text": [
      "C:\\Users\\12403\\AppData\\Local\\Temp\\ipykernel_23892\\772791319.py:9: FutureWarning: The frame.append method is deprecated and will be removed from pandas in a future version. Use pandas.concat instead.\n",
      "  new_normal_df = new_normal_df.append(pseudo_df3, ignore_index = True)\n"
     ]
    },
    {
     "name": "stdout",
     "output_type": "stream",
     "text": [
      "4642/4642 [==============================] - 3s 587us/step\n",
      "31302\n",
      "125439\n"
     ]
    },
    {
     "name": "stderr",
     "output_type": "stream",
     "text": [
      "C:\\Users\\12403\\AppData\\Local\\Temp\\ipykernel_23892\\772791319.py:9: FutureWarning: The frame.append method is deprecated and will be removed from pandas in a future version. Use pandas.concat instead.\n",
      "  new_normal_df = new_normal_df.append(pseudo_df3, ignore_index = True)\n"
     ]
    },
    {
     "name": "stdout",
     "output_type": "stream",
     "text": [
      "4642/4642 [==============================] - 3s 573us/step\n",
      "31108\n",
      "156547\n"
     ]
    },
    {
     "name": "stderr",
     "output_type": "stream",
     "text": [
      "C:\\Users\\12403\\AppData\\Local\\Temp\\ipykernel_23892\\772791319.py:9: FutureWarning: The frame.append method is deprecated and will be removed from pandas in a future version. Use pandas.concat instead.\n",
      "  new_normal_df = new_normal_df.append(pseudo_df3, ignore_index = True)\n"
     ]
    },
    {
     "name": "stdout",
     "output_type": "stream",
     "text": [
      "4642/4642 [==============================] - 3s 589us/step\n",
      "31040\n",
      "187587\n"
     ]
    },
    {
     "name": "stderr",
     "output_type": "stream",
     "text": [
      "C:\\Users\\12403\\AppData\\Local\\Temp\\ipykernel_23892\\772791319.py:9: FutureWarning: The frame.append method is deprecated and will be removed from pandas in a future version. Use pandas.concat instead.\n",
      "  new_normal_df = new_normal_df.append(pseudo_df3, ignore_index = True)\n"
     ]
    },
    {
     "name": "stdout",
     "output_type": "stream",
     "text": [
      "4642/4642 [==============================] - 3s 588us/step\n",
      "31275\n",
      "218862\n"
     ]
    },
    {
     "name": "stderr",
     "output_type": "stream",
     "text": [
      "C:\\Users\\12403\\AppData\\Local\\Temp\\ipykernel_23892\\772791319.py:9: FutureWarning: The frame.append method is deprecated and will be removed from pandas in a future version. Use pandas.concat instead.\n",
      "  new_normal_df = new_normal_df.append(pseudo_df3, ignore_index = True)\n"
     ]
    },
    {
     "name": "stdout",
     "output_type": "stream",
     "text": [
      "4642/4642 [==============================] - 3s 601us/step\n",
      "31067\n",
      "249929\n"
     ]
    },
    {
     "name": "stderr",
     "output_type": "stream",
     "text": [
      "C:\\Users\\12403\\AppData\\Local\\Temp\\ipykernel_23892\\772791319.py:9: FutureWarning: The frame.append method is deprecated and will be removed from pandas in a future version. Use pandas.concat instead.\n",
      "  new_normal_df = new_normal_df.append(pseudo_df3, ignore_index = True)\n"
     ]
    },
    {
     "name": "stdout",
     "output_type": "stream",
     "text": [
      "4642/4642 [==============================] - 3s 625us/step\n",
      "31274\n",
      "281203\n"
     ]
    },
    {
     "name": "stderr",
     "output_type": "stream",
     "text": [
      "C:\\Users\\12403\\AppData\\Local\\Temp\\ipykernel_23892\\772791319.py:9: FutureWarning: The frame.append method is deprecated and will be removed from pandas in a future version. Use pandas.concat instead.\n",
      "  new_normal_df = new_normal_df.append(pseudo_df3, ignore_index = True)\n"
     ]
    },
    {
     "name": "stdout",
     "output_type": "stream",
     "text": [
      "4642/4642 [==============================] - 3s 603us/step\n",
      "31446\n",
      "312649\n"
     ]
    },
    {
     "name": "stderr",
     "output_type": "stream",
     "text": [
      "C:\\Users\\12403\\AppData\\Local\\Temp\\ipykernel_23892\\772791319.py:9: FutureWarning: The frame.append method is deprecated and will be removed from pandas in a future version. Use pandas.concat instead.\n",
      "  new_normal_df = new_normal_df.append(pseudo_df3, ignore_index = True)\n"
     ]
    },
    {
     "name": "stdout",
     "output_type": "stream",
     "text": [
      "4642/4642 [==============================] - 3s 556us/step\n",
      "30985\n",
      "343634\n"
     ]
    },
    {
     "name": "stderr",
     "output_type": "stream",
     "text": [
      "C:\\Users\\12403\\AppData\\Local\\Temp\\ipykernel_23892\\772791319.py:9: FutureWarning: The frame.append method is deprecated and will be removed from pandas in a future version. Use pandas.concat instead.\n",
      "  new_normal_df = new_normal_df.append(pseudo_df3, ignore_index = True)\n"
     ]
    },
    {
     "name": "stdout",
     "output_type": "stream",
     "text": [
      "4642/4642 [==============================] - 3s 600us/step\n",
      "31414\n",
      "375048\n"
     ]
    },
    {
     "name": "stderr",
     "output_type": "stream",
     "text": [
      "C:\\Users\\12403\\AppData\\Local\\Temp\\ipykernel_23892\\772791319.py:9: FutureWarning: The frame.append method is deprecated and will be removed from pandas in a future version. Use pandas.concat instead.\n",
      "  new_normal_df = new_normal_df.append(pseudo_df3, ignore_index = True)\n"
     ]
    },
    {
     "name": "stdout",
     "output_type": "stream",
     "text": [
      "4642/4642 [==============================] - 3s 662us/step\n",
      "31247\n",
      "406295\n"
     ]
    },
    {
     "name": "stderr",
     "output_type": "stream",
     "text": [
      "C:\\Users\\12403\\AppData\\Local\\Temp\\ipykernel_23892\\772791319.py:9: FutureWarning: The frame.append method is deprecated and will be removed from pandas in a future version. Use pandas.concat instead.\n",
      "  new_normal_df = new_normal_df.append(pseudo_df3, ignore_index = True)\n"
     ]
    },
    {
     "name": "stdout",
     "output_type": "stream",
     "text": [
      "4642/4642 [==============================] - 3s 622us/step\n",
      "31161\n",
      "437456\n"
     ]
    },
    {
     "name": "stderr",
     "output_type": "stream",
     "text": [
      "C:\\Users\\12403\\AppData\\Local\\Temp\\ipykernel_23892\\772791319.py:9: FutureWarning: The frame.append method is deprecated and will be removed from pandas in a future version. Use pandas.concat instead.\n",
      "  new_normal_df = new_normal_df.append(pseudo_df3, ignore_index = True)\n"
     ]
    },
    {
     "name": "stdout",
     "output_type": "stream",
     "text": [
      "4642/4642 [==============================] - 3s 573us/step\n",
      "31415\n",
      "468871\n"
     ]
    },
    {
     "name": "stderr",
     "output_type": "stream",
     "text": [
      "C:\\Users\\12403\\AppData\\Local\\Temp\\ipykernel_23892\\772791319.py:9: FutureWarning: The frame.append method is deprecated and will be removed from pandas in a future version. Use pandas.concat instead.\n",
      "  new_normal_df = new_normal_df.append(pseudo_df3, ignore_index = True)\n"
     ]
    },
    {
     "name": "stdout",
     "output_type": "stream",
     "text": [
      "4642/4642 [==============================] - 3s 565us/step\n",
      "31406\n",
      "500277\n"
     ]
    },
    {
     "name": "stderr",
     "output_type": "stream",
     "text": [
      "C:\\Users\\12403\\AppData\\Local\\Temp\\ipykernel_23892\\772791319.py:9: FutureWarning: The frame.append method is deprecated and will be removed from pandas in a future version. Use pandas.concat instead.\n",
      "  new_normal_df = new_normal_df.append(pseudo_df3, ignore_index = True)\n"
     ]
    },
    {
     "name": "stdout",
     "output_type": "stream",
     "text": [
      "4642/4642 [==============================] - 3s 597us/step\n",
      "31019\n",
      "531296\n"
     ]
    },
    {
     "name": "stderr",
     "output_type": "stream",
     "text": [
      "C:\\Users\\12403\\AppData\\Local\\Temp\\ipykernel_23892\\772791319.py:9: FutureWarning: The frame.append method is deprecated and will be removed from pandas in a future version. Use pandas.concat instead.\n",
      "  new_normal_df = new_normal_df.append(pseudo_df3, ignore_index = True)\n"
     ]
    },
    {
     "name": "stdout",
     "output_type": "stream",
     "text": [
      "4642/4642 [==============================] - 3s 563us/step\n",
      "31427\n",
      "562723\n"
     ]
    },
    {
     "name": "stderr",
     "output_type": "stream",
     "text": [
      "C:\\Users\\12403\\AppData\\Local\\Temp\\ipykernel_23892\\772791319.py:9: FutureWarning: The frame.append method is deprecated and will be removed from pandas in a future version. Use pandas.concat instead.\n",
      "  new_normal_df = new_normal_df.append(pseudo_df3, ignore_index = True)\n"
     ]
    },
    {
     "name": "stdout",
     "output_type": "stream",
     "text": [
      "4642/4642 [==============================] - 3s 564us/step\n",
      "31327\n",
      "594050\n"
     ]
    },
    {
     "name": "stderr",
     "output_type": "stream",
     "text": [
      "C:\\Users\\12403\\AppData\\Local\\Temp\\ipykernel_23892\\772791319.py:9: FutureWarning: The frame.append method is deprecated and will be removed from pandas in a future version. Use pandas.concat instead.\n",
      "  new_normal_df = new_normal_df.append(pseudo_df3, ignore_index = True)\n"
     ]
    },
    {
     "name": "stdout",
     "output_type": "stream",
     "text": [
      "4642/4642 [==============================] - 3s 559us/step\n",
      "31311\n",
      "625361\n"
     ]
    },
    {
     "name": "stderr",
     "output_type": "stream",
     "text": [
      "C:\\Users\\12403\\AppData\\Local\\Temp\\ipykernel_23892\\772791319.py:9: FutureWarning: The frame.append method is deprecated and will be removed from pandas in a future version. Use pandas.concat instead.\n",
      "  new_normal_df = new_normal_df.append(pseudo_df3, ignore_index = True)\n"
     ]
    },
    {
     "name": "stdout",
     "output_type": "stream",
     "text": [
      "4642/4642 [==============================] - 3s 596us/step\n",
      "31300\n"
     ]
    },
    {
     "name": "stderr",
     "output_type": "stream",
     "text": [
      "C:\\Users\\12403\\AppData\\Local\\Temp\\ipykernel_23892\\772791319.py:9: FutureWarning: The frame.append method is deprecated and will be removed from pandas in a future version. Use pandas.concat instead.\n",
      "  new_normal_df = new_normal_df.append(pseudo_df3, ignore_index = True)\n"
     ]
    },
    {
     "name": "stdout",
     "output_type": "stream",
     "text": [
      "656661\n",
      "4642/4642 [==============================] - 3s 738us/step\n",
      "31089\n",
      "687750\n"
     ]
    },
    {
     "name": "stderr",
     "output_type": "stream",
     "text": [
      "C:\\Users\\12403\\AppData\\Local\\Temp\\ipykernel_23892\\772791319.py:9: FutureWarning: The frame.append method is deprecated and will be removed from pandas in a future version. Use pandas.concat instead.\n",
      "  new_normal_df = new_normal_df.append(pseudo_df3, ignore_index = True)\n"
     ]
    },
    {
     "name": "stdout",
     "output_type": "stream",
     "text": [
      "4642/4642 [==============================] - 3s 587us/step\n",
      "31301\n",
      "719051\n"
     ]
    },
    {
     "name": "stderr",
     "output_type": "stream",
     "text": [
      "C:\\Users\\12403\\AppData\\Local\\Temp\\ipykernel_23892\\772791319.py:9: FutureWarning: The frame.append method is deprecated and will be removed from pandas in a future version. Use pandas.concat instead.\n",
      "  new_normal_df = new_normal_df.append(pseudo_df3, ignore_index = True)\n"
     ]
    },
    {
     "name": "stdout",
     "output_type": "stream",
     "text": [
      "4642/4642 [==============================] - 3s 668us/step\n",
      "31437\n"
     ]
    },
    {
     "name": "stderr",
     "output_type": "stream",
     "text": [
      "C:\\Users\\12403\\AppData\\Local\\Temp\\ipykernel_23892\\772791319.py:9: FutureWarning: The frame.append method is deprecated and will be removed from pandas in a future version. Use pandas.concat instead.\n",
      "  new_normal_df = new_normal_df.append(pseudo_df3, ignore_index = True)\n"
     ]
    },
    {
     "name": "stdout",
     "output_type": "stream",
     "text": [
      "750488\n",
      "4642/4642 [==============================] - 3s 579us/step\n",
      "31483\n",
      "781971\n"
     ]
    },
    {
     "name": "stderr",
     "output_type": "stream",
     "text": [
      "C:\\Users\\12403\\AppData\\Local\\Temp\\ipykernel_23892\\772791319.py:9: FutureWarning: The frame.append method is deprecated and will be removed from pandas in a future version. Use pandas.concat instead.\n",
      "  new_normal_df = new_normal_df.append(pseudo_df3, ignore_index = True)\n"
     ]
    },
    {
     "name": "stdout",
     "output_type": "stream",
     "text": [
      "4642/4642 [==============================] - 3s 566us/step\n",
      "31245\n",
      "813216\n",
      "25\n"
     ]
    },
    {
     "name": "stderr",
     "output_type": "stream",
     "text": [
      "C:\\Users\\12403\\AppData\\Local\\Temp\\ipykernel_23892\\772791319.py:9: FutureWarning: The frame.append method is deprecated and will be removed from pandas in a future version. Use pandas.concat instead.\n",
      "  new_normal_df = new_normal_df.append(pseudo_df3, ignore_index = True)\n"
     ]
    },
    {
     "data": {
      "text/plain": [
       "813216"
      ]
     },
     "execution_count": 254,
     "metadata": {},
     "output_type": "execute_result"
    }
   ],
   "source": [
    "new_normal_df=pd.DataFrame(pseudo_df2)\n",
    "print(new_normal_df.shape[0])\n",
    "i=0\n",
    "#while new_normal_df.shape[0] < 934971:\n",
    "while i < 25:\n",
    "    pseudo_df3=norm_data()\n",
    "    print(pseudo_df3.shape[0])\n",
    "    #new_normal_df=pseudo_df3.shape[0]\n",
    "    new_normal_df = new_normal_df.append(pseudo_df3, ignore_index = True)\n",
    "    combined_data = pd.concat([df_train,new_normal_df])\n",
    "    print(new_normal_df.shape[0])\n",
    "    i=i+1\n",
    "    \n",
    "print(i)   \n",
    "new_normal_df.shape[0]"
   ]
  },
  {
   "cell_type": "code",
   "execution_count": 255,
   "id": "21130063",
   "metadata": {},
   "outputs": [],
   "source": [
    "#new_normal_df1=new_normal_df"
   ]
  },
  {
   "cell_type": "code",
   "execution_count": 256,
   "id": "2d041c13",
   "metadata": {},
   "outputs": [],
   "source": [
    "#combined_data1 = pd.concat([df_train,new_normal_df1])"
   ]
  },
  {
   "cell_type": "code",
   "execution_count": 257,
   "id": "8e7ef7ac",
   "metadata": {},
   "outputs": [
    {
     "data": {
      "text/plain": [
       "1    934971\n",
       "0    148534\n",
       "Name: label, dtype: int64"
      ]
     },
     "execution_count": 257,
     "metadata": {},
     "output_type": "execute_result"
    }
   ],
   "source": [
    "df_train['label'].value_counts()"
   ]
  },
  {
   "cell_type": "code",
   "execution_count": 258,
   "id": "259f6b9f",
   "metadata": {},
   "outputs": [
    {
     "data": {
      "text/plain": [
       "0.0    961750\n",
       "1.0    934971\n",
       "Name: label, dtype: int64"
      ]
     },
     "execution_count": 258,
     "metadata": {},
     "output_type": "execute_result"
    }
   ],
   "source": [
    "combined_data[\"label\"].value_counts()"
   ]
  },
  {
   "cell_type": "code",
   "execution_count": null,
   "id": "2650e713",
   "metadata": {},
   "outputs": [],
   "source": [
    "#combined_data.to_csv('balanced_dataset.csv')"
   ]
  },
  {
   "cell_type": "code",
   "execution_count": 260,
   "id": "fb52e404",
   "metadata": {},
   "outputs": [
    {
     "data": {
      "text/html": [
       "<div>\n",
       "<style scoped>\n",
       "    .dataframe tbody tr th:only-of-type {\n",
       "        vertical-align: middle;\n",
       "    }\n",
       "\n",
       "    .dataframe tbody tr th {\n",
       "        vertical-align: top;\n",
       "    }\n",
       "\n",
       "    .dataframe thead th {\n",
       "        text-align: right;\n",
       "    }\n",
       "</style>\n",
       "<table border=\"1\" class=\"dataframe\">\n",
       "  <thead>\n",
       "    <tr style=\"text-align: right;\">\n",
       "      <th></th>\n",
       "      <th>duration</th>\n",
       "      <th>orig_bytes</th>\n",
       "      <th>resp_bytes</th>\n",
       "      <th>orig_pkts</th>\n",
       "      <th>orig_ip_bytes</th>\n",
       "      <th>resp_pkts</th>\n",
       "      <th>resp_ip_bytes</th>\n",
       "      <th>label</th>\n",
       "      <th>proto_icmp</th>\n",
       "      <th>proto_tcp</th>\n",
       "      <th>proto_udp</th>\n",
       "      <th>conn_state_OTH</th>\n",
       "      <th>conn_state_REJ</th>\n",
       "      <th>conn_state_S0</th>\n",
       "      <th>conn_state_S1</th>\n",
       "    </tr>\n",
       "  </thead>\n",
       "  <tbody>\n",
       "    <tr>\n",
       "      <th>523144</th>\n",
       "      <td>3.103243</td>\n",
       "      <td>0</td>\n",
       "      <td>0</td>\n",
       "      <td>3.0</td>\n",
       "      <td>180.0</td>\n",
       "      <td>0.0</td>\n",
       "      <td>0.0</td>\n",
       "      <td>0</td>\n",
       "      <td>0</td>\n",
       "      <td>1</td>\n",
       "      <td>0</td>\n",
       "      <td>0</td>\n",
       "      <td>0</td>\n",
       "      <td>1</td>\n",
       "      <td>0</td>\n",
       "    </tr>\n",
       "    <tr>\n",
       "      <th>1082693</th>\n",
       "      <td>-1.000000</td>\n",
       "      <td>-1</td>\n",
       "      <td>-1</td>\n",
       "      <td>2.0</td>\n",
       "      <td>80.0</td>\n",
       "      <td>0.0</td>\n",
       "      <td>0.0</td>\n",
       "      <td>1</td>\n",
       "      <td>0</td>\n",
       "      <td>1</td>\n",
       "      <td>0</td>\n",
       "      <td>0</td>\n",
       "      <td>0</td>\n",
       "      <td>1</td>\n",
       "      <td>0</td>\n",
       "    </tr>\n",
       "    <tr>\n",
       "      <th>856694</th>\n",
       "      <td>-1.000000</td>\n",
       "      <td>-1</td>\n",
       "      <td>-1</td>\n",
       "      <td>6.0</td>\n",
       "      <td>360.0</td>\n",
       "      <td>0.0</td>\n",
       "      <td>0.0</td>\n",
       "      <td>1</td>\n",
       "      <td>0</td>\n",
       "      <td>1</td>\n",
       "      <td>0</td>\n",
       "      <td>0</td>\n",
       "      <td>0</td>\n",
       "      <td>1</td>\n",
       "      <td>0</td>\n",
       "    </tr>\n",
       "    <tr>\n",
       "      <th>145533</th>\n",
       "      <td>-1.000000</td>\n",
       "      <td>-1</td>\n",
       "      <td>-1</td>\n",
       "      <td>2.0</td>\n",
       "      <td>80.0</td>\n",
       "      <td>0.0</td>\n",
       "      <td>0.0</td>\n",
       "      <td>1</td>\n",
       "      <td>0</td>\n",
       "      <td>1</td>\n",
       "      <td>0</td>\n",
       "      <td>0</td>\n",
       "      <td>0</td>\n",
       "      <td>1</td>\n",
       "      <td>0</td>\n",
       "    </tr>\n",
       "    <tr>\n",
       "      <th>927896</th>\n",
       "      <td>-1.000000</td>\n",
       "      <td>-1</td>\n",
       "      <td>-1</td>\n",
       "      <td>2.0</td>\n",
       "      <td>120.0</td>\n",
       "      <td>0.0</td>\n",
       "      <td>0.0</td>\n",
       "      <td>1</td>\n",
       "      <td>0</td>\n",
       "      <td>1</td>\n",
       "      <td>0</td>\n",
       "      <td>0</td>\n",
       "      <td>0</td>\n",
       "      <td>1</td>\n",
       "      <td>0</td>\n",
       "    </tr>\n",
       "  </tbody>\n",
       "</table>\n",
       "</div>"
      ],
      "text/plain": [
       "         duration  orig_bytes  resp_bytes  orig_pkts  orig_ip_bytes  \\\n",
       "523144   3.103243           0           0        3.0          180.0   \n",
       "1082693 -1.000000          -1          -1        2.0           80.0   \n",
       "856694  -1.000000          -1          -1        6.0          360.0   \n",
       "145533  -1.000000          -1          -1        2.0           80.0   \n",
       "927896  -1.000000          -1          -1        2.0          120.0   \n",
       "\n",
       "         resp_pkts  resp_ip_bytes  label  proto_icmp  proto_tcp  proto_udp  \\\n",
       "523144         0.0            0.0      0           0          1          0   \n",
       "1082693        0.0            0.0      1           0          1          0   \n",
       "856694         0.0            0.0      1           0          1          0   \n",
       "145533         0.0            0.0      1           0          1          0   \n",
       "927896         0.0            0.0      1           0          1          0   \n",
       "\n",
       "         conn_state_OTH  conn_state_REJ  conn_state_S0  conn_state_S1  \n",
       "523144                0               0              1              0  \n",
       "1082693               0               0              1              0  \n",
       "856694                0               0              1              0  \n",
       "145533                0               0              1              0  \n",
       "927896                0               0              1              0  "
      ]
     },
     "execution_count": 260,
     "metadata": {},
     "output_type": "execute_result"
    }
   ],
   "source": [
    "df_train.head()"
   ]
  },
  {
   "cell_type": "code",
   "execution_count": 261,
   "id": "d78dfe29",
   "metadata": {},
   "outputs": [
    {
     "data": {
      "text/plain": [
       "(1896721, 15)"
      ]
     },
     "execution_count": 261,
     "metadata": {},
     "output_type": "execute_result"
    }
   ],
   "source": [
    "combined_data.shape"
   ]
  },
  {
   "cell_type": "code",
   "execution_count": 262,
   "id": "d68b0221",
   "metadata": {},
   "outputs": [
    {
     "data": {
      "text/html": [
       "<div>\n",
       "<style scoped>\n",
       "    .dataframe tbody tr th:only-of-type {\n",
       "        vertical-align: middle;\n",
       "    }\n",
       "\n",
       "    .dataframe tbody tr th {\n",
       "        vertical-align: top;\n",
       "    }\n",
       "\n",
       "    .dataframe thead th {\n",
       "        text-align: right;\n",
       "    }\n",
       "</style>\n",
       "<table border=\"1\" class=\"dataframe\">\n",
       "  <thead>\n",
       "    <tr style=\"text-align: right;\">\n",
       "      <th></th>\n",
       "      <th>duration</th>\n",
       "      <th>orig_bytes</th>\n",
       "      <th>resp_bytes</th>\n",
       "      <th>orig_pkts</th>\n",
       "      <th>orig_ip_bytes</th>\n",
       "      <th>resp_pkts</th>\n",
       "      <th>resp_ip_bytes</th>\n",
       "      <th>label</th>\n",
       "      <th>proto_icmp</th>\n",
       "      <th>proto_tcp</th>\n",
       "      <th>proto_udp</th>\n",
       "      <th>conn_state_OTH</th>\n",
       "      <th>conn_state_REJ</th>\n",
       "      <th>conn_state_S0</th>\n",
       "      <th>conn_state_S1</th>\n",
       "    </tr>\n",
       "  </thead>\n",
       "  <tbody>\n",
       "    <tr>\n",
       "      <th>523144</th>\n",
       "      <td>3.103243</td>\n",
       "      <td>0.0</td>\n",
       "      <td>0.0</td>\n",
       "      <td>3.0</td>\n",
       "      <td>180.0</td>\n",
       "      <td>0.0</td>\n",
       "      <td>0.0</td>\n",
       "      <td>0.0</td>\n",
       "      <td>0.0</td>\n",
       "      <td>1.0</td>\n",
       "      <td>0.0</td>\n",
       "      <td>0.0</td>\n",
       "      <td>0.0</td>\n",
       "      <td>1.0</td>\n",
       "      <td>0.0</td>\n",
       "    </tr>\n",
       "    <tr>\n",
       "      <th>1082693</th>\n",
       "      <td>-1.000000</td>\n",
       "      <td>-1.0</td>\n",
       "      <td>-1.0</td>\n",
       "      <td>2.0</td>\n",
       "      <td>80.0</td>\n",
       "      <td>0.0</td>\n",
       "      <td>0.0</td>\n",
       "      <td>1.0</td>\n",
       "      <td>0.0</td>\n",
       "      <td>1.0</td>\n",
       "      <td>0.0</td>\n",
       "      <td>0.0</td>\n",
       "      <td>0.0</td>\n",
       "      <td>1.0</td>\n",
       "      <td>0.0</td>\n",
       "    </tr>\n",
       "    <tr>\n",
       "      <th>856694</th>\n",
       "      <td>-1.000000</td>\n",
       "      <td>-1.0</td>\n",
       "      <td>-1.0</td>\n",
       "      <td>6.0</td>\n",
       "      <td>360.0</td>\n",
       "      <td>0.0</td>\n",
       "      <td>0.0</td>\n",
       "      <td>1.0</td>\n",
       "      <td>0.0</td>\n",
       "      <td>1.0</td>\n",
       "      <td>0.0</td>\n",
       "      <td>0.0</td>\n",
       "      <td>0.0</td>\n",
       "      <td>1.0</td>\n",
       "      <td>0.0</td>\n",
       "    </tr>\n",
       "    <tr>\n",
       "      <th>145533</th>\n",
       "      <td>-1.000000</td>\n",
       "      <td>-1.0</td>\n",
       "      <td>-1.0</td>\n",
       "      <td>2.0</td>\n",
       "      <td>80.0</td>\n",
       "      <td>0.0</td>\n",
       "      <td>0.0</td>\n",
       "      <td>1.0</td>\n",
       "      <td>0.0</td>\n",
       "      <td>1.0</td>\n",
       "      <td>0.0</td>\n",
       "      <td>0.0</td>\n",
       "      <td>0.0</td>\n",
       "      <td>1.0</td>\n",
       "      <td>0.0</td>\n",
       "    </tr>\n",
       "    <tr>\n",
       "      <th>927896</th>\n",
       "      <td>-1.000000</td>\n",
       "      <td>-1.0</td>\n",
       "      <td>-1.0</td>\n",
       "      <td>2.0</td>\n",
       "      <td>120.0</td>\n",
       "      <td>0.0</td>\n",
       "      <td>0.0</td>\n",
       "      <td>1.0</td>\n",
       "      <td>0.0</td>\n",
       "      <td>1.0</td>\n",
       "      <td>0.0</td>\n",
       "      <td>0.0</td>\n",
       "      <td>0.0</td>\n",
       "      <td>1.0</td>\n",
       "      <td>0.0</td>\n",
       "    </tr>\n",
       "  </tbody>\n",
       "</table>\n",
       "</div>"
      ],
      "text/plain": [
       "         duration  orig_bytes  resp_bytes  orig_pkts  orig_ip_bytes  \\\n",
       "523144   3.103243         0.0         0.0        3.0          180.0   \n",
       "1082693 -1.000000        -1.0        -1.0        2.0           80.0   \n",
       "856694  -1.000000        -1.0        -1.0        6.0          360.0   \n",
       "145533  -1.000000        -1.0        -1.0        2.0           80.0   \n",
       "927896  -1.000000        -1.0        -1.0        2.0          120.0   \n",
       "\n",
       "         resp_pkts  resp_ip_bytes  label  proto_icmp  proto_tcp  proto_udp  \\\n",
       "523144         0.0            0.0    0.0         0.0        1.0        0.0   \n",
       "1082693        0.0            0.0    1.0         0.0        1.0        0.0   \n",
       "856694         0.0            0.0    1.0         0.0        1.0        0.0   \n",
       "145533         0.0            0.0    1.0         0.0        1.0        0.0   \n",
       "927896         0.0            0.0    1.0         0.0        1.0        0.0   \n",
       "\n",
       "         conn_state_OTH  conn_state_REJ  conn_state_S0  conn_state_S1  \n",
       "523144              0.0             0.0            1.0            0.0  \n",
       "1082693             0.0             0.0            1.0            0.0  \n",
       "856694              0.0             0.0            1.0            0.0  \n",
       "145533              0.0             0.0            1.0            0.0  \n",
       "927896              0.0             0.0            1.0            0.0  "
      ]
     },
     "execution_count": 262,
     "metadata": {},
     "output_type": "execute_result"
    }
   ],
   "source": [
    "combined_data.head()"
   ]
  },
  {
   "cell_type": "code",
   "execution_count": 263,
   "id": "0f617829",
   "metadata": {},
   "outputs": [
    {
     "data": {
      "text/plain": [
       "0.0    961750\n",
       "1.0    934971\n",
       "Name: label, dtype: int64"
      ]
     },
     "execution_count": 263,
     "metadata": {},
     "output_type": "execute_result"
    }
   ],
   "source": [
    "combined_data['label'].value_counts()"
   ]
  },
  {
   "cell_type": "code",
   "execution_count": null,
   "id": "4673f592",
   "metadata": {},
   "outputs": [],
   "source": [
    "sns.countplot(x='label', data=combined_data, palette='Set2')"
   ]
  },
  {
   "cell_type": "code",
   "execution_count": 286,
   "id": "9c54db14",
   "metadata": {},
   "outputs": [
    {
     "data": {
      "text/html": [
       "<div>\n",
       "<style scoped>\n",
       "    .dataframe tbody tr th:only-of-type {\n",
       "        vertical-align: middle;\n",
       "    }\n",
       "\n",
       "    .dataframe tbody tr th {\n",
       "        vertical-align: top;\n",
       "    }\n",
       "\n",
       "    .dataframe thead th {\n",
       "        text-align: right;\n",
       "    }\n",
       "</style>\n",
       "<table border=\"1\" class=\"dataframe\">\n",
       "  <thead>\n",
       "    <tr style=\"text-align: right;\">\n",
       "      <th></th>\n",
       "      <th>duration</th>\n",
       "      <th>orig_bytes</th>\n",
       "      <th>resp_bytes</th>\n",
       "      <th>orig_pkts</th>\n",
       "      <th>orig_ip_bytes</th>\n",
       "      <th>resp_pkts</th>\n",
       "      <th>resp_ip_bytes</th>\n",
       "      <th>label</th>\n",
       "      <th>proto_icmp</th>\n",
       "      <th>proto_tcp</th>\n",
       "      <th>proto_udp</th>\n",
       "      <th>conn_state_OTH</th>\n",
       "      <th>conn_state_REJ</th>\n",
       "      <th>conn_state_S0</th>\n",
       "      <th>conn_state_S1</th>\n",
       "    </tr>\n",
       "  </thead>\n",
       "  <tbody>\n",
       "    <tr>\n",
       "      <th>count</th>\n",
       "      <td>1.444674e+06</td>\n",
       "      <td>1.444674e+06</td>\n",
       "      <td>1.444674e+06</td>\n",
       "      <td>1.444674e+06</td>\n",
       "      <td>1.444674e+06</td>\n",
       "      <td>1.444674e+06</td>\n",
       "      <td>1.444674e+06</td>\n",
       "      <td>1.444674e+06</td>\n",
       "      <td>1.444674e+06</td>\n",
       "      <td>1.444674e+06</td>\n",
       "      <td>1.444674e+06</td>\n",
       "      <td>1.444674e+06</td>\n",
       "      <td>1.444674e+06</td>\n",
       "      <td>1.444674e+06</td>\n",
       "      <td>1.444674e+06</td>\n",
       "    </tr>\n",
       "    <tr>\n",
       "      <th>mean</th>\n",
       "      <td>3.060814e-01</td>\n",
       "      <td>2.725242e+03</td>\n",
       "      <td>1.801278e+01</td>\n",
       "      <td>1.780510e+02</td>\n",
       "      <td>7.745525e+03</td>\n",
       "      <td>1.257785e-01</td>\n",
       "      <td>2.846040e+01</td>\n",
       "      <td>8.630771e-01</td>\n",
       "      <td>2.527214e-03</td>\n",
       "      <td>9.603558e-01</td>\n",
       "      <td>3.711702e-02</td>\n",
       "      <td>8.124324e-02</td>\n",
       "      <td>1.881393e-03</td>\n",
       "      <td>9.034620e-01</td>\n",
       "      <td>3.322549e-05</td>\n",
       "    </tr>\n",
       "    <tr>\n",
       "      <th>std</th>\n",
       "      <td>8.568446e+01</td>\n",
       "      <td>1.714763e+06</td>\n",
       "      <td>9.726978e+03</td>\n",
       "      <td>7.230421e+04</td>\n",
       "      <td>2.849409e+06</td>\n",
       "      <td>1.547444e+01</td>\n",
       "      <td>1.014930e+04</td>\n",
       "      <td>3.437661e-01</td>\n",
       "      <td>5.020785e-02</td>\n",
       "      <td>1.951220e-01</td>\n",
       "      <td>1.890486e-01</td>\n",
       "      <td>2.732084e-01</td>\n",
       "      <td>4.333422e-02</td>\n",
       "      <td>2.953278e-01</td>\n",
       "      <td>5.764062e-03</td>\n",
       "    </tr>\n",
       "    <tr>\n",
       "      <th>min</th>\n",
       "      <td>-1.000000e+00</td>\n",
       "      <td>-1.000000e+00</td>\n",
       "      <td>-1.000000e+00</td>\n",
       "      <td>0.000000e+00</td>\n",
       "      <td>0.000000e+00</td>\n",
       "      <td>0.000000e+00</td>\n",
       "      <td>0.000000e+00</td>\n",
       "      <td>0.000000e+00</td>\n",
       "      <td>0.000000e+00</td>\n",
       "      <td>0.000000e+00</td>\n",
       "      <td>0.000000e+00</td>\n",
       "      <td>0.000000e+00</td>\n",
       "      <td>0.000000e+00</td>\n",
       "      <td>0.000000e+00</td>\n",
       "      <td>0.000000e+00</td>\n",
       "    </tr>\n",
       "    <tr>\n",
       "      <th>25%</th>\n",
       "      <td>-1.000000e+00</td>\n",
       "      <td>-1.000000e+00</td>\n",
       "      <td>-1.000000e+00</td>\n",
       "      <td>1.000000e+00</td>\n",
       "      <td>4.000000e+01</td>\n",
       "      <td>0.000000e+00</td>\n",
       "      <td>0.000000e+00</td>\n",
       "      <td>1.000000e+00</td>\n",
       "      <td>0.000000e+00</td>\n",
       "      <td>1.000000e+00</td>\n",
       "      <td>0.000000e+00</td>\n",
       "      <td>0.000000e+00</td>\n",
       "      <td>0.000000e+00</td>\n",
       "      <td>1.000000e+00</td>\n",
       "      <td>0.000000e+00</td>\n",
       "    </tr>\n",
       "    <tr>\n",
       "      <th>50%</th>\n",
       "      <td>0.000000e+00</td>\n",
       "      <td>0.000000e+00</td>\n",
       "      <td>0.000000e+00</td>\n",
       "      <td>1.000000e+00</td>\n",
       "      <td>4.000000e+01</td>\n",
       "      <td>0.000000e+00</td>\n",
       "      <td>0.000000e+00</td>\n",
       "      <td>1.000000e+00</td>\n",
       "      <td>0.000000e+00</td>\n",
       "      <td>1.000000e+00</td>\n",
       "      <td>0.000000e+00</td>\n",
       "      <td>0.000000e+00</td>\n",
       "      <td>0.000000e+00</td>\n",
       "      <td>1.000000e+00</td>\n",
       "      <td>0.000000e+00</td>\n",
       "    </tr>\n",
       "    <tr>\n",
       "      <th>75%</th>\n",
       "      <td>0.000000e+00</td>\n",
       "      <td>0.000000e+00</td>\n",
       "      <td>0.000000e+00</td>\n",
       "      <td>2.000000e+00</td>\n",
       "      <td>8.000000e+01</td>\n",
       "      <td>0.000000e+00</td>\n",
       "      <td>0.000000e+00</td>\n",
       "      <td>1.000000e+00</td>\n",
       "      <td>0.000000e+00</td>\n",
       "      <td>1.000000e+00</td>\n",
       "      <td>0.000000e+00</td>\n",
       "      <td>0.000000e+00</td>\n",
       "      <td>0.000000e+00</td>\n",
       "      <td>1.000000e+00</td>\n",
       "      <td>0.000000e+00</td>\n",
       "    </tr>\n",
       "    <tr>\n",
       "      <th>max</th>\n",
       "      <td>4.897682e+04</td>\n",
       "      <td>1.744830e+09</td>\n",
       "      <td>1.166102e+07</td>\n",
       "      <td>6.602735e+07</td>\n",
       "      <td>1.914793e+09</td>\n",
       "      <td>9.307000e+03</td>\n",
       "      <td>1.207699e+07</td>\n",
       "      <td>1.000000e+00</td>\n",
       "      <td>1.000000e+00</td>\n",
       "      <td>1.000000e+00</td>\n",
       "      <td>1.000000e+00</td>\n",
       "      <td>1.000000e+00</td>\n",
       "      <td>1.000000e+00</td>\n",
       "      <td>1.000000e+00</td>\n",
       "      <td>1.000000e+00</td>\n",
       "    </tr>\n",
       "  </tbody>\n",
       "</table>\n",
       "</div>"
      ],
      "text/plain": [
       "           duration    orig_bytes    resp_bytes     orig_pkts  orig_ip_bytes  \\\n",
       "count  1.444674e+06  1.444674e+06  1.444674e+06  1.444674e+06   1.444674e+06   \n",
       "mean   3.060814e-01  2.725242e+03  1.801278e+01  1.780510e+02   7.745525e+03   \n",
       "std    8.568446e+01  1.714763e+06  9.726978e+03  7.230421e+04   2.849409e+06   \n",
       "min   -1.000000e+00 -1.000000e+00 -1.000000e+00  0.000000e+00   0.000000e+00   \n",
       "25%   -1.000000e+00 -1.000000e+00 -1.000000e+00  1.000000e+00   4.000000e+01   \n",
       "50%    0.000000e+00  0.000000e+00  0.000000e+00  1.000000e+00   4.000000e+01   \n",
       "75%    0.000000e+00  0.000000e+00  0.000000e+00  2.000000e+00   8.000000e+01   \n",
       "max    4.897682e+04  1.744830e+09  1.166102e+07  6.602735e+07   1.914793e+09   \n",
       "\n",
       "          resp_pkts  resp_ip_bytes         label    proto_icmp     proto_tcp  \\\n",
       "count  1.444674e+06   1.444674e+06  1.444674e+06  1.444674e+06  1.444674e+06   \n",
       "mean   1.257785e-01   2.846040e+01  8.630771e-01  2.527214e-03  9.603558e-01   \n",
       "std    1.547444e+01   1.014930e+04  3.437661e-01  5.020785e-02  1.951220e-01   \n",
       "min    0.000000e+00   0.000000e+00  0.000000e+00  0.000000e+00  0.000000e+00   \n",
       "25%    0.000000e+00   0.000000e+00  1.000000e+00  0.000000e+00  1.000000e+00   \n",
       "50%    0.000000e+00   0.000000e+00  1.000000e+00  0.000000e+00  1.000000e+00   \n",
       "75%    0.000000e+00   0.000000e+00  1.000000e+00  0.000000e+00  1.000000e+00   \n",
       "max    9.307000e+03   1.207699e+07  1.000000e+00  1.000000e+00  1.000000e+00   \n",
       "\n",
       "          proto_udp  conn_state_OTH  conn_state_REJ  conn_state_S0  \\\n",
       "count  1.444674e+06    1.444674e+06    1.444674e+06   1.444674e+06   \n",
       "mean   3.711702e-02    8.124324e-02    1.881393e-03   9.034620e-01   \n",
       "std    1.890486e-01    2.732084e-01    4.333422e-02   2.953278e-01   \n",
       "min    0.000000e+00    0.000000e+00    0.000000e+00   0.000000e+00   \n",
       "25%    0.000000e+00    0.000000e+00    0.000000e+00   1.000000e+00   \n",
       "50%    0.000000e+00    0.000000e+00    0.000000e+00   1.000000e+00   \n",
       "75%    0.000000e+00    0.000000e+00    0.000000e+00   1.000000e+00   \n",
       "max    1.000000e+00    1.000000e+00    1.000000e+00   1.000000e+00   \n",
       "\n",
       "       conn_state_S1  \n",
       "count   1.444674e+06  \n",
       "mean    3.322549e-05  \n",
       "std     5.764062e-03  \n",
       "min     0.000000e+00  \n",
       "25%     0.000000e+00  \n",
       "50%     0.000000e+00  \n",
       "75%     0.000000e+00  \n",
       "max     1.000000e+00  "
      ]
     },
     "execution_count": 286,
     "metadata": {},
     "output_type": "execute_result"
    }
   ],
   "source": [
    "df.describe()"
   ]
  },
  {
   "cell_type": "code",
   "execution_count": 287,
   "id": "890989a2",
   "metadata": {},
   "outputs": [
    {
     "data": {
      "text/html": [
       "<div>\n",
       "<style scoped>\n",
       "    .dataframe tbody tr th:only-of-type {\n",
       "        vertical-align: middle;\n",
       "    }\n",
       "\n",
       "    .dataframe tbody tr th {\n",
       "        vertical-align: top;\n",
       "    }\n",
       "\n",
       "    .dataframe thead th {\n",
       "        text-align: right;\n",
       "    }\n",
       "</style>\n",
       "<table border=\"1\" class=\"dataframe\">\n",
       "  <thead>\n",
       "    <tr style=\"text-align: right;\">\n",
       "      <th></th>\n",
       "      <th>duration</th>\n",
       "      <th>orig_bytes</th>\n",
       "      <th>resp_bytes</th>\n",
       "      <th>orig_pkts</th>\n",
       "      <th>orig_ip_bytes</th>\n",
       "      <th>resp_pkts</th>\n",
       "      <th>resp_ip_bytes</th>\n",
       "      <th>label</th>\n",
       "      <th>proto_icmp</th>\n",
       "      <th>proto_tcp</th>\n",
       "      <th>proto_udp</th>\n",
       "      <th>conn_state_OTH</th>\n",
       "      <th>conn_state_REJ</th>\n",
       "      <th>conn_state_S0</th>\n",
       "      <th>conn_state_S1</th>\n",
       "    </tr>\n",
       "  </thead>\n",
       "  <tbody>\n",
       "    <tr>\n",
       "      <th>count</th>\n",
       "      <td>1.896721e+06</td>\n",
       "      <td>1.896721e+06</td>\n",
       "      <td>1.896721e+06</td>\n",
       "      <td>1.896721e+06</td>\n",
       "      <td>1.896721e+06</td>\n",
       "      <td>1.896721e+06</td>\n",
       "      <td>1.896721e+06</td>\n",
       "      <td>1.896721e+06</td>\n",
       "      <td>1.896721e+06</td>\n",
       "      <td>1.896721e+06</td>\n",
       "      <td>1.896721e+06</td>\n",
       "      <td>1.896721e+06</td>\n",
       "      <td>1.896721e+06</td>\n",
       "      <td>1.896721e+06</td>\n",
       "      <td>1.896721e+06</td>\n",
       "    </tr>\n",
       "    <tr>\n",
       "      <th>mean</th>\n",
       "      <td>9.939172e-01</td>\n",
       "      <td>2.259415e+03</td>\n",
       "      <td>1.204505e+03</td>\n",
       "      <td>9.447143e+01</td>\n",
       "      <td>4.002427e+04</td>\n",
       "      <td>1.379072e-01</td>\n",
       "      <td>6.307683e+00</td>\n",
       "      <td>4.929407e-01</td>\n",
       "      <td>9.450286e-03</td>\n",
       "      <td>8.531721e-01</td>\n",
       "      <td>1.373458e-01</td>\n",
       "      <td>5.463121e-02</td>\n",
       "      <td>4.757778e-03</td>\n",
       "      <td>9.055445e-01</td>\n",
       "      <td>9.985138e-05</td>\n",
       "    </tr>\n",
       "    <tr>\n",
       "      <th>std</th>\n",
       "      <td>1.170665e+02</td>\n",
       "      <td>1.498276e+06</td>\n",
       "      <td>8.714049e+03</td>\n",
       "      <td>6.186901e+04</td>\n",
       "      <td>2.462160e+06</td>\n",
       "      <td>1.041766e+01</td>\n",
       "      <td>9.106090e+03</td>\n",
       "      <td>4.999503e-01</td>\n",
       "      <td>9.717652e-02</td>\n",
       "      <td>3.551985e-01</td>\n",
       "      <td>3.454452e-01</td>\n",
       "      <td>2.274508e-01</td>\n",
       "      <td>6.911150e-02</td>\n",
       "      <td>2.930604e-01</td>\n",
       "      <td>1.004894e-02</td>\n",
       "    </tr>\n",
       "    <tr>\n",
       "      <th>min</th>\n",
       "      <td>-3.838919e+01</td>\n",
       "      <td>-3.375736e+04</td>\n",
       "      <td>-5.478376e+03</td>\n",
       "      <td>-1.773872e+04</td>\n",
       "      <td>-2.536385e+04</td>\n",
       "      <td>-9.626610e+00</td>\n",
       "      <td>-1.542204e+04</td>\n",
       "      <td>0.000000e+00</td>\n",
       "      <td>-6.330904e-02</td>\n",
       "      <td>-1.872771e-01</td>\n",
       "      <td>-2.088951e-01</td>\n",
       "      <td>-6.682470e-02</td>\n",
       "      <td>-4.703961e-02</td>\n",
       "      <td>-1.259615e-01</td>\n",
       "      <td>-6.198886e-03</td>\n",
       "    </tr>\n",
       "    <tr>\n",
       "      <th>25%</th>\n",
       "      <td>-1.000000e+00</td>\n",
       "      <td>-1.000000e+00</td>\n",
       "      <td>0.000000e+00</td>\n",
       "      <td>0.000000e+00</td>\n",
       "      <td>4.000000e+01</td>\n",
       "      <td>0.000000e+00</td>\n",
       "      <td>0.000000e+00</td>\n",
       "      <td>0.000000e+00</td>\n",
       "      <td>0.000000e+00</td>\n",
       "      <td>9.811442e-01</td>\n",
       "      <td>0.000000e+00</td>\n",
       "      <td>0.000000e+00</td>\n",
       "      <td>0.000000e+00</td>\n",
       "      <td>9.927470e-01</td>\n",
       "      <td>0.000000e+00</td>\n",
       "    </tr>\n",
       "    <tr>\n",
       "      <th>50%</th>\n",
       "      <td>0.000000e+00</td>\n",
       "      <td>0.000000e+00</td>\n",
       "      <td>0.000000e+00</td>\n",
       "      <td>1.000000e+00</td>\n",
       "      <td>1.600000e+02</td>\n",
       "      <td>0.000000e+00</td>\n",
       "      <td>0.000000e+00</td>\n",
       "      <td>0.000000e+00</td>\n",
       "      <td>0.000000e+00</td>\n",
       "      <td>1.000000e+00</td>\n",
       "      <td>0.000000e+00</td>\n",
       "      <td>0.000000e+00</td>\n",
       "      <td>0.000000e+00</td>\n",
       "      <td>1.000000e+00</td>\n",
       "      <td>0.000000e+00</td>\n",
       "    </tr>\n",
       "    <tr>\n",
       "      <th>75%</th>\n",
       "      <td>1.663869e+00</td>\n",
       "      <td>0.000000e+00</td>\n",
       "      <td>2.077302e+03</td>\n",
       "      <td>3.000000e+00</td>\n",
       "      <td>5.474316e+04</td>\n",
       "      <td>0.000000e+00</td>\n",
       "      <td>0.000000e+00</td>\n",
       "      <td>1.000000e+00</td>\n",
       "      <td>0.000000e+00</td>\n",
       "      <td>1.000000e+00</td>\n",
       "      <td>1.587415e-02</td>\n",
       "      <td>1.217598e-03</td>\n",
       "      <td>0.000000e+00</td>\n",
       "      <td>1.000000e+00</td>\n",
       "      <td>0.000000e+00</td>\n",
       "    </tr>\n",
       "    <tr>\n",
       "      <th>max</th>\n",
       "      <td>4.897682e+04</td>\n",
       "      <td>1.744830e+09</td>\n",
       "      <td>1.166102e+07</td>\n",
       "      <td>6.602735e+07</td>\n",
       "      <td>1.914793e+09</td>\n",
       "      <td>9.307000e+03</td>\n",
       "      <td>1.207699e+07</td>\n",
       "      <td>1.000000e+00</td>\n",
       "      <td>1.056745e+00</td>\n",
       "      <td>1.212814e+00</td>\n",
       "      <td>1.209808e+00</td>\n",
       "      <td>1.050136e+00</td>\n",
       "      <td>1.037400e+00</td>\n",
       "      <td>1.136759e+00</td>\n",
       "      <td>1.003876e+00</td>\n",
       "    </tr>\n",
       "  </tbody>\n",
       "</table>\n",
       "</div>"
      ],
      "text/plain": [
       "           duration    orig_bytes    resp_bytes     orig_pkts  orig_ip_bytes  \\\n",
       "count  1.896721e+06  1.896721e+06  1.896721e+06  1.896721e+06   1.896721e+06   \n",
       "mean   9.939172e-01  2.259415e+03  1.204505e+03  9.447143e+01   4.002427e+04   \n",
       "std    1.170665e+02  1.498276e+06  8.714049e+03  6.186901e+04   2.462160e+06   \n",
       "min   -3.838919e+01 -3.375736e+04 -5.478376e+03 -1.773872e+04  -2.536385e+04   \n",
       "25%   -1.000000e+00 -1.000000e+00  0.000000e+00  0.000000e+00   4.000000e+01   \n",
       "50%    0.000000e+00  0.000000e+00  0.000000e+00  1.000000e+00   1.600000e+02   \n",
       "75%    1.663869e+00  0.000000e+00  2.077302e+03  3.000000e+00   5.474316e+04   \n",
       "max    4.897682e+04  1.744830e+09  1.166102e+07  6.602735e+07   1.914793e+09   \n",
       "\n",
       "          resp_pkts  resp_ip_bytes         label    proto_icmp     proto_tcp  \\\n",
       "count  1.896721e+06   1.896721e+06  1.896721e+06  1.896721e+06  1.896721e+06   \n",
       "mean   1.379072e-01   6.307683e+00  4.929407e-01  9.450286e-03  8.531721e-01   \n",
       "std    1.041766e+01   9.106090e+03  4.999503e-01  9.717652e-02  3.551985e-01   \n",
       "min   -9.626610e+00  -1.542204e+04  0.000000e+00 -6.330904e-02 -1.872771e-01   \n",
       "25%    0.000000e+00   0.000000e+00  0.000000e+00  0.000000e+00  9.811442e-01   \n",
       "50%    0.000000e+00   0.000000e+00  0.000000e+00  0.000000e+00  1.000000e+00   \n",
       "75%    0.000000e+00   0.000000e+00  1.000000e+00  0.000000e+00  1.000000e+00   \n",
       "max    9.307000e+03   1.207699e+07  1.000000e+00  1.056745e+00  1.212814e+00   \n",
       "\n",
       "          proto_udp  conn_state_OTH  conn_state_REJ  conn_state_S0  \\\n",
       "count  1.896721e+06    1.896721e+06    1.896721e+06   1.896721e+06   \n",
       "mean   1.373458e-01    5.463121e-02    4.757778e-03   9.055445e-01   \n",
       "std    3.454452e-01    2.274508e-01    6.911150e-02   2.930604e-01   \n",
       "min   -2.088951e-01   -6.682470e-02   -4.703961e-02  -1.259615e-01   \n",
       "25%    0.000000e+00    0.000000e+00    0.000000e+00   9.927470e-01   \n",
       "50%    0.000000e+00    0.000000e+00    0.000000e+00   1.000000e+00   \n",
       "75%    1.587415e-02    1.217598e-03    0.000000e+00   1.000000e+00   \n",
       "max    1.209808e+00    1.050136e+00    1.037400e+00   1.136759e+00   \n",
       "\n",
       "       conn_state_S1  \n",
       "count   1.896721e+06  \n",
       "mean    9.985138e-05  \n",
       "std     1.004894e-02  \n",
       "min    -6.198886e-03  \n",
       "25%     0.000000e+00  \n",
       "50%     0.000000e+00  \n",
       "75%     0.000000e+00  \n",
       "max     1.003876e+00  "
      ]
     },
     "execution_count": 287,
     "metadata": {},
     "output_type": "execute_result"
    }
   ],
   "source": [
    "combined_data.describe()"
   ]
  },
  {
   "cell_type": "code",
   "execution_count": 267,
   "id": "6574e61e",
   "metadata": {},
   "outputs": [
    {
     "name": "stdout",
     "output_type": "stream",
     "text": [
      "Epoch 1/2\n",
      "18968/18968 [==============================] - 28s 1ms/step - loss: 3751.0276 - accuracy: 0.9333\n",
      "Epoch 2/2\n",
      "18968/18968 [==============================] - 27s 1ms/step - loss: 5892.8638 - accuracy: 0.9222\n"
     ]
    },
    {
     "data": {
      "text/plain": [
       "<keras.callbacks.History at 0x24a80f757f0>"
      ]
     },
     "execution_count": 267,
     "metadata": {},
     "output_type": "execute_result"
    }
   ],
   "source": [
    "X= combined_data.drop([\"label\"], axis=1)\n",
    "Y = combined_data[\"label\"].values\n",
    "model.fit(X, Y,batch_size=100,epochs=2)"
   ]
  },
  {
   "cell_type": "code",
   "execution_count": 268,
   "id": "1ccaab38",
   "metadata": {},
   "outputs": [],
   "source": [
    "def report_heatmap(y_pred,y_test):\n",
    "    \n",
    "    # overall accuracy \n",
    "    acc = accuracy_score(y_test, y_pred)\n",
    "    print( f'Overall Accuracy: {acc*100:.2f}%' )\n",
    "    print(\"--------------------------\")    \n",
    "    \n",
    "    # report\n",
    "    print(classification_report(y_test, y_pred))\n",
    "    figsize=(8,5)\n",
    "    #y_pred = y_pred.astype(int)\n",
    "    cm = confusion_matrix(y_test, y_pred, labels=np.unique(y_test))\n",
    "    cm_sum = np.sum(cm, axis=1, keepdims=True)\n",
    "    cm_perc = cm / cm_sum.astype(float) * 100\n",
    "    annot = np.empty_like(cm).astype(str)\n",
    "    nrows, ncols = cm.shape\n",
    "    for i in range(nrows):\n",
    "        for j in range(ncols):\n",
    "            c = cm[i, j]\n",
    "            p = cm_perc[i, j]\n",
    "            if i == j:\n",
    "                s = cm_sum[i]\n",
    "                annot[i, j] = '%.1f%%\\n%d/%d' % (p, c, s)\n",
    "            elif c == 0:\n",
    "                annot[i, j] = ''\n",
    "            else:\n",
    "                annot[i, j] = '%.1f%%\\n%d' % (p, c)\n",
    "    cm = pd.DataFrame(cm, index=np.unique(y_test), columns=np.unique(y_test))\n",
    "    cm.index.name = 'Actual'\n",
    "    cm.columns.name = 'Predicted'\n",
    "    fig, ax = plt.subplots(figsize=figsize)\n",
    "    \n",
    "    sns.heatmap(cm, cmap= \"YlGnBu\", annot=annot, fmt='', ax=ax)"
   ]
  },
  {
   "cell_type": "code",
   "execution_count": 271,
   "id": "3994b85b",
   "metadata": {},
   "outputs": [],
   "source": [
    "x_vld= df_test.drop([\"label\"], axis=1)\n",
    "y_vld = df_test[\"label\"].values"
   ]
  },
  {
   "cell_type": "code",
   "execution_count": 288,
   "id": "9ab9ffe6",
   "metadata": {},
   "outputs": [
    {
     "name": "stdout",
     "output_type": "stream",
     "text": [
      "11287/11287 [==============================] - 6s 557us/step\n",
      "Overall Accuracy: 93.05%\n",
      "--------------------------\n",
      "              precision    recall  f1-score   support\n",
      "\n",
      "           0       0.91      0.55      0.68     49275\n",
      "           1       0.93      0.99      0.96    311894\n",
      "\n",
      "    accuracy                           0.93    361169\n",
      "   macro avg       0.92      0.77      0.82    361169\n",
      "weighted avg       0.93      0.93      0.92    361169\n",
      "\n"
     ]
    },
    {
     "data": {
      "image/png": "[encoded data removed]",
      "text/plain": [
       "<Figure size 800x500 with 2 Axes>"
      ]
     },
     "metadata": {},
     "output_type": "display_data"
    }
   ],
   "source": [
    "y_pred_NN=(model.predict(x_vld)> 0.5)\n",
    "report_heatmap(y_pred_NN,y_vld)"
   ]
  },
  {
   "cell_type": "code",
   "execution_count": 283,
   "id": "e8750adb",
   "metadata": {},
   "outputs": [
    {
     "name": "stdout",
     "output_type": "stream",
     "text": [
      "11287/11287 [==============================] - 7s 576us/step\n",
      "Overall Accuracy: 90.49%\n",
      "--------------------------\n",
      "              precision    recall  f1-score   support\n",
      "\n",
      "           0       0.61      0.82      0.70     49275\n",
      "           1       0.97      0.92      0.94    311894\n",
      "\n",
      "    accuracy                           0.90    361169\n",
      "   macro avg       0.79      0.87      0.82    361169\n",
      "weighted avg       0.92      0.90      0.91    361169\n",
      "\n"
     ]
    },
    {
     "data": {
      "image/png": "[encoded data removed]",
      "text/plain": [
       "<Figure size 800x500 with 2 Axes>"
      ]
     },
     "metadata": {},
     "output_type": "display_data"
    }
   ],
   "source": [
    "y_pred_NN=(model.predict(x_vld)> 0.8)\n",
    "report_heatmap(y_pred_NN,y_vld)"
   ]
  },
  {
   "cell_type": "code",
   "execution_count": null,
   "id": "ab70b9fa",
   "metadata": {},
   "outputs": [],
   "source": [
    "#End"
   ]
  }
 ],
 "metadata": {
  "kernelspec": {
   "display_name": "Python 3 (ipykernel)",
   "language": "python",
   "name": "python3"
  },
  "language_info": {
   "codemirror_mode": {
    "name": "ipython",
    "version": 3
   },
   "file_extension": ".py",
   "mimetype": "text/x-python",
   "name": "python",
   "nbconvert_exporter": "python",
   "pygments_lexer": "ipython3",
   "version": "3.9.13"
  }
 },
 "nbformat": 4,
 "nbformat_minor": 5
}
